{
 "cells": [
  {
   "cell_type": "code",
   "execution_count": 1,
   "id": "c39addc2-cf08-43f8-bf7e-3576d92952bf",
   "metadata": {
    "tags": []
   },
   "outputs": [
    {
     "data": {
      "application/vnd.jupyter.widget-view+json": {
       "model_id": "dd9b8bf4dfcb4ef5a6ddb634613328c2",
       "version_major": 2,
       "version_minor": 0
      },
      "text/plain": [
       "RadioButtons(description='Gender:', options=(('Male', 0), ('Female', 1)), value=0)"
      ]
     },
     "metadata": {},
     "output_type": "display_data"
    },
    {
     "data": {
      "application/vnd.jupyter.widget-view+json": {
       "model_id": "e5e9144c9ab742b480842854272c443c",
       "version_major": 2,
       "version_minor": 0
      },
      "text/plain": [
       "BoundedIntText(value=120, description='Systolic BP:', max=300)"
      ]
     },
     "metadata": {},
     "output_type": "display_data"
    },
    {
     "data": {
      "application/vnd.jupyter.widget-view+json": {
       "model_id": "cf5d5fb4eecc4a009141e728c3c67977",
       "version_major": 2,
       "version_minor": 0
      },
      "text/plain": [
       "BoundedIntText(value=80, description='Diastolic BP:', max=200)"
      ]
     },
     "metadata": {},
     "output_type": "display_data"
    },
    {
     "data": {
      "application/vnd.jupyter.widget-view+json": {
       "model_id": "41a273240b2c43cbbde7c1086a790002",
       "version_major": 2,
       "version_minor": 0
      },
      "text/plain": [
       "RadioButtons(description='Cholestrol Level:', options=(('Low', 1), ('Moderate', 2), ('High', 3)), value=1)"
      ]
     },
     "metadata": {},
     "output_type": "display_data"
    },
    {
     "data": {
      "application/vnd.jupyter.widget-view+json": {
       "model_id": "54442655e0614953b4c5efaf37bd4505",
       "version_major": 2,
       "version_minor": 0
      },
      "text/plain": [
       "RadioButtons(description='Active:', options=(('No', 0), ('Yes', 1)), value=0)"
      ]
     },
     "metadata": {},
     "output_type": "display_data"
    },
    {
     "data": {
      "application/vnd.jupyter.widget-view+json": {
       "model_id": "fffd76ea4fed43329165aed90398f3d6",
       "version_major": 2,
       "version_minor": 0
      },
      "text/plain": [
       "RadioButtons(description='Alcoholic:', options=(('No', 0), ('Yes', 1)), value=0)"
      ]
     },
     "metadata": {},
     "output_type": "display_data"
    },
    {
     "data": {
      "application/vnd.jupyter.widget-view+json": {
       "model_id": "d45db8b39597446b8531632e2b6f3917",
       "version_major": 2,
       "version_minor": 0
      },
      "text/plain": [
       "RadioButtons(description='Glucose Levels:', options=(('Low', 1), ('Moderate', 2), ('High', 3)), value=1)"
      ]
     },
     "metadata": {},
     "output_type": "display_data"
    },
    {
     "data": {
      "application/vnd.jupyter.widget-view+json": {
       "model_id": "0189b7a676744b5e8980693a15ae8235",
       "version_major": 2,
       "version_minor": 0
      },
      "text/plain": [
       "RadioButtons(description='Smoker:', options=(('No', 0), ('Yes', 1)), value=0)"
      ]
     },
     "metadata": {},
     "output_type": "display_data"
    },
    {
     "data": {
      "application/vnd.jupyter.widget-view+json": {
       "model_id": "e56e96fd836b4332961ed3ee9509fce9",
       "version_major": 2,
       "version_minor": 0
      },
      "text/plain": [
       "BoundedIntText(value=45, description='Age in Years')"
      ]
     },
     "metadata": {},
     "output_type": "display_data"
    },
    {
     "data": {
      "application/vnd.jupyter.widget-view+json": {
       "model_id": "63b1b9171f5041c29e3f65e896efeba5",
       "version_major": 2,
       "version_minor": 0
      },
      "text/plain": [
       "BoundedIntText(value=20, description='BMI Value:', max=30, min=10)"
      ]
     },
     "metadata": {},
     "output_type": "display_data"
    },
    {
     "data": {
      "application/vnd.jupyter.widget-view+json": {
       "model_id": "606f5c245159464eb7af86145042238e",
       "version_major": 2,
       "version_minor": 0
      },
      "text/plain": [
       "Button(description='Predict', style=ButtonStyle())"
      ]
     },
     "metadata": {},
     "output_type": "display_data"
    },
    {
     "data": {
      "application/vnd.jupyter.widget-view+json": {
       "model_id": "5b0fee4fbe4f4f669eaf5b6c9072c494",
       "version_major": 2,
       "version_minor": 0
      },
      "text/plain": [
       "Output()"
      ]
     },
     "metadata": {},
     "output_type": "display_data"
    }
   ],
   "source": [
    "import joblib\n",
    "import ipywidgets as widgets\n",
    "from IPython.display import display\n",
    "import numpy as np\n",
    "\n",
    "# Load the machine learning model\n",
    "model = joblib.load('logistic_regression_model.pkl')\n",
    "\n",
    "# Create GUI elements\n",
    "gender = widgets.RadioButtons(options=[('Male', 0), ('Female', 1)], description='Gender:')\n",
    "systolic_bp = widgets.BoundedIntText(value=120, min=0, max=300, step=1, description='Systolic BP:')\n",
    "diastolic_bp = widgets.BoundedIntText(value=80, min=0, max=200, step=1, description='Diastolic BP:')\n",
    "\n",
    "cholestrol = widgets.RadioButtons(options=[('Low', 1), ('Moderate', 2), ('High', 3)], description='Cholestrol Level:')\n",
    "active = widgets.RadioButtons(options=[('No', 0), ('Yes', 1)], description='Active:')\n",
    "alco = widgets.RadioButtons(options=[('No', 0), ('Yes', 1)], description='Alcoholic:')\n",
    "glucose = widgets.RadioButtons(options=[('Low', 1), ('Moderate', 2), ('High', 3)], description='Glucose Levels:')\n",
    "smoke = widgets.RadioButtons(options=[('No', 0), ('Yes', 1)], description='Smoker:')\n",
    "Age = widgets.BoundedIntText(value=45, min=0, max=100, step=1, description='Age in Years')\n",
    "BMI = widgets.BoundedIntText(value=20, min=10, max=30, step=1, description='BMI Value:')\n",
    "\n",
    "# Add other widgets for the remaining features\n",
    "\n",
    "predict_button = widgets.Button(description='Predict')\n",
    "output = widgets.Output()\n",
    "\n",
    "def predict(*args):\n",
    "    # Fetch values from widgets\n",
    "    gender_val = gender.value\n",
    "    systolic_bp_val = systolic_bp.value\n",
    "    diastolic_bp_val = diastolic_bp.value\n",
    "    cholestrol_val = cholestrol.value\n",
    "    active_val = active.value\n",
    "    alco_val = alco.value\n",
    "    glucose_val = glucose.value\n",
    "    smoke_val = smoke.value\n",
    "    Age_val = Age.value\n",
    "    BMI_val = BMI.value\n",
    "    # Fetch values for other features\n",
    "\n",
    "    # Perform preprocessing if needed\n",
    "    features = np.array([gender_val, systolic_bp_val, diastolic_bp_val,cholestrol_val, glucose_val, smoke_val, alco_val, active_val, Age_val, BMI_val])  # Add other features\n",
    "    # Make a prediction\n",
    "    prediction = model.predict([features])\n",
    "\n",
    "    # Display the prediction\n",
    "    with output:\n",
    "        output.clear_output()\n",
    "        if prediction[0] == 0:\n",
    "            print(\"The model predicts PRESENCE of heart disease.\")\n",
    "        else:\n",
    "            print(\"The model predicts ABSENCE of heart disease.\")\n",
    "\n",
    "predict_button.on_click(predict)\n",
    "\n",
    "# Display widgets\n",
    "display(gender, systolic_bp, diastolic_bp, cholestrol, active, alco, glucose, smoke, Age, BMI, predict_button, output)"
   ]
  }
 ],
 "metadata": {
  "kernelspec": {
   "display_name": "Python 3 (ipykernel)",
   "language": "python",
   "name": "python3"
  },
  "language_info": {
   "codemirror_mode": {
    "name": "ipython",
    "version": 3
   },
   "file_extension": ".py",
   "mimetype": "text/x-python",
   "name": "python",
   "nbconvert_exporter": "python",
   "pygments_lexer": "ipython3",
   "version": "3.11.4"
  }
 },
 "nbformat": 4,
 "nbformat_minor": 5
}
