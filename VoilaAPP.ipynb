{
 "cells": [
  {
   "cell_type": "code",
   "execution_count": 8,
   "id": "c39addc2-cf08-43f8-bf7e-3576d92952bf",
   "metadata": {
    "tags": []
   },
   "outputs": [
    {
     "data": {
      "application/vnd.jupyter.widget-view+json": {
       "model_id": "7df476e11277463ba89aa9c040e2f68e",
       "version_major": 2,
       "version_minor": 0
      },
      "text/plain": [
       "RadioButtons(description='Gender:', options=(('Male', 0), ('Female', 1)), value=0)"
      ]
     },
     "metadata": {},
     "output_type": "display_data"
    },
    {
     "data": {
      "application/vnd.jupyter.widget-view+json": {
       "model_id": "22665c53d7224d4f9977fb2e6c3258ba",
       "version_major": 2,
       "version_minor": 0
      },
      "text/plain": [
       "BoundedIntText(value=120, description='Systolic BP:', max=300)"
      ]
     },
     "metadata": {},
     "output_type": "display_data"
    },
    {
     "data": {
      "application/vnd.jupyter.widget-view+json": {
       "model_id": "7165b09f090b4853971f8a40a53221e7",
       "version_major": 2,
       "version_minor": 0
      },
      "text/plain": [
       "BoundedIntText(value=80, description='Diastolic BP:', max=200)"
      ]
     },
     "metadata": {},
     "output_type": "display_data"
    },
    {
     "data": {
      "application/vnd.jupyter.widget-view+json": {
       "model_id": "0e29f613f98146d98d076ba3a93ce176",
       "version_major": 2,
       "version_minor": 0
      },
      "text/plain": [
       "RadioButtons(description='Cholestrol Level:', options=(('Low', 1), ('Moderate', 2), ('High', 3)), value=1)"
      ]
     },
     "metadata": {},
     "output_type": "display_data"
    },
    {
     "data": {
      "application/vnd.jupyter.widget-view+json": {
       "model_id": "49e653c7ed864d629a2a95f6ad543015",
       "version_major": 2,
       "version_minor": 0
      },
      "text/plain": [
       "RadioButtons(description='Active:', options=(('No', 0), ('Yes', 1)), value=0)"
      ]
     },
     "metadata": {},
     "output_type": "display_data"
    },
    {
     "data": {
      "application/vnd.jupyter.widget-view+json": {
       "model_id": "2d040c403ac24d5493f6ddffa267eaf4",
       "version_major": 2,
       "version_minor": 0
      },
      "text/plain": [
       "RadioButtons(description='Alcoholic:', options=(('No', 0), ('Yes', 1)), value=0)"
      ]
     },
     "metadata": {},
     "output_type": "display_data"
    },
    {
     "data": {
      "application/vnd.jupyter.widget-view+json": {
       "model_id": "1edb8107bcb0425db50d184d53394941",
       "version_major": 2,
       "version_minor": 0
      },
      "text/plain": [
       "RadioButtons(description='Glucose Levels:', options=(('Low', 1), ('Moderate', 2), ('High', 3)), value=1)"
      ]
     },
     "metadata": {},
     "output_type": "display_data"
    },
    {
     "data": {
      "application/vnd.jupyter.widget-view+json": {
       "model_id": "229a9a42b81b405c8e49bf9992dbf229",
       "version_major": 2,
       "version_minor": 0
      },
      "text/plain": [
       "RadioButtons(description='Smoker:', options=(('No', 0), ('Yes', 1)), value=0)"
      ]
     },
     "metadata": {},
     "output_type": "display_data"
    },
    {
     "data": {
      "application/vnd.jupyter.widget-view+json": {
       "model_id": "4b0d9ace76f2480fbe7d33c95fe42763",
       "version_major": 2,
       "version_minor": 0
      },
      "text/plain": [
       "BoundedIntText(value=45, description='Age in Years')"
      ]
     },
     "metadata": {},
     "output_type": "display_data"
    },
    {
     "data": {
      "application/vnd.jupyter.widget-view+json": {
       "model_id": "93d838a754ea450aa048ecaa027fb9db",
       "version_major": 2,
       "version_minor": 0
      },
      "text/plain": [
       "BoundedIntText(value=20, description='BMI Value:', max=30, min=10)"
      ]
     },
     "metadata": {},
     "output_type": "display_data"
    },
    {
     "data": {
      "application/vnd.jupyter.widget-view+json": {
       "model_id": "44c84ad8492a4d1ab2620c0829ce384e",
       "version_major": 2,
       "version_minor": 0
      },
      "text/plain": [
       "Button(description='Predict', style=ButtonStyle())"
      ]
     },
     "metadata": {},
     "output_type": "display_data"
    },
    {
     "data": {
      "application/vnd.jupyter.widget-view+json": {
       "model_id": "7707a31b77d14e88a2e0a49f01bcbeae",
       "version_major": 2,
       "version_minor": 0
      },
      "text/plain": [
       "Output()"
      ]
     },
     "metadata": {},
     "output_type": "display_data"
    }
   ],
   "source": [
    "import joblib\n",
    "import ipywidgets as widgets\n",
    "from IPython.display import display\n",
    "import numpy as np\n",
    "\n",
    "# Load the machine learning model\n",
    "model = joblib.load('logistic_regression_model.pkl')\n",
    "\n",
    "# Create GUI elements\n",
    "gender = widgets.RadioButtons(options=[('Male', 0), ('Female', 1)], description='Gender:')\n",
    "systolic_bp = widgets.BoundedIntText(value=120, min=0, max=300, step=1, description='Systolic BP:')\n",
    "diastolic_bp = widgets.BoundedIntText(value=80, min=0, max=200, step=1, description='Diastolic BP:')\n",
    "\n",
    "cholestrol = widgets.RadioButtons(options=[('Low', 1), ('Moderate', 2), ('High', 3)], description='Cholestrol Level:')\n",
    "active = widgets.RadioButtons(options=[('No', 0), ('Yes', 1)], description='Active:')\n",
    "alco = widgets.RadioButtons(options=[('No', 0), ('Yes', 1)], description='Alcoholic:')\n",
    "glucose = widgets.RadioButtons(options=[('Low', 1), ('Moderate', 2), ('High', 3)], description='Glucose Levels:')\n",
    "smoke = widgets.RadioButtons(options=[('No', 0), ('Yes', 1)], description='Smoker:')\n",
    "Age = widgets.BoundedIntText(value=45, min=0, max=100, step=1, description='Age in Years')\n",
    "BMI = widgets.BoundedIntText(value=20, min=10, max=30, step=1, description='BMI Value:')\n",
    "\n",
    "# Add other widgets for the remaining features\n",
    "\n",
    "predict_button = widgets.Button(description='Predict')\n",
    "output = widgets.Output()\n",
    "\n",
    "def predict(*args):\n",
    "    # Fetch values from widgets\n",
    "    gender_val = gender.value\n",
    "    systolic_bp_val = systolic_bp.value\n",
    "    diastolic_bp_val = diastolic_bp.value\n",
    "    cholestrol_val = cholestrol.value\n",
    "    active_val = active.value\n",
    "    alco_val = alco.value\n",
    "    glucose_val = glucose.value\n",
    "    smoke_val = smoke.value\n",
    "    Age_val = Age.value\n",
    "    BMI_val = BMI.value\n",
    "    # Fetch values for other features\n",
    "\n",
    "    # Perform preprocessing if needed\n",
    "    features = np.array([gender_val, systolic_bp_val, diastolic_bp_val,cholestrol_val, glucose_val, smoke_val, alco_val, active_val, Age_val, BMI_val])  # Add other features\n",
    "    # Make a prediction\n",
    "    prediction = model.predict([features])\n",
    "\n",
    "    # Display the prediction\n",
    "    with output:\n",
    "        output.clear_output()\n",
    "        if prediction[0] == 0:\n",
    "            print(\"The model predicts PRESENCE of heart disease.\")\n",
    "        else:\n",
    "            print(\"The model predicts ABSENCE of heart disease.\")\n",
    "\n",
    "predict_button.on_click(predict)\n",
    "\n",
    "# Display widgets\n",
    "display(gender, systolic_bp, diastolic_bp, cholestrol, active, alco, glucose, smoke, Age, BMI, predict_button, output)"
   ]
  }
 ],
 "metadata": {
  "kernelspec": {
   "display_name": "Python 3 (ipykernel)",
   "language": "python",
   "name": "python3"
  },
  "language_info": {
   "codemirror_mode": {
    "name": "ipython",
    "version": 3
   },
   "file_extension": ".py",
   "mimetype": "text/x-python",
   "name": "python",
   "nbconvert_exporter": "python",
   "pygments_lexer": "ipython3",
   "version": "3.11.4"
  }
 },
 "nbformat": 4,
 "nbformat_minor": 5
}
