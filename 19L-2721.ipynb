{
 "cells": [
  {
   "cell_type": "markdown",
   "id": "10bebf69-8770-4ab3-bed0-e4e9ec683ccb",
   "metadata": {},
   "source": [
    "<h1>Importing Libraries</h1>"
   ]
  },
  {
   "cell_type": "code",
   "execution_count": 1,
   "id": "f4ce9afa-2509-40e0-a1f7-a61488d7580e",
   "metadata": {
    "tags": []
   },
   "outputs": [],
   "source": [
    "# importing libraries\n",
    "import numpy as np\n",
    "import pandas as pd\n",
    "import matplotlib.pyplot as plt\n",
    "import seaborn as sns\n",
    "from sklearn.preprocessing import StandardScaler\n",
    "\n",
    "import warnings\n",
    "warnings.filterwarnings('ignore')\n",
    "\n",
    "sns.set()\n",
    "plt.style.use('ggplot')\n",
    "%matplotlib inline"
   ]
  },
  {
   "cell_type": "markdown",
   "id": "d8ac8427-ed41-41c2-8f77-c151207f4cce",
   "metadata": {},
   "source": [
    "<h1>Importing Dataset</h1>"
   ]
  },
  {
   "cell_type": "code",
   "execution_count": 3,
   "id": "a72422e3-6f98-409c-8468-8ddb2f368c57",
   "metadata": {
    "tags": []
   },
   "outputs": [
    {
     "data": {
      "text/html": [
       "<div>\n",
       "<style scoped>\n",
       "    .dataframe tbody tr th:only-of-type {\n",
       "        vertical-align: middle;\n",
       "    }\n",
       "\n",
       "    .dataframe tbody tr th {\n",
       "        vertical-align: top;\n",
       "    }\n",
       "\n",
       "    .dataframe thead th {\n",
       "        text-align: right;\n",
       "    }\n",
       "</style>\n",
       "<table border=\"1\" class=\"dataframe\">\n",
       "  <thead>\n",
       "    <tr style=\"text-align: right;\">\n",
       "      <th></th>\n",
       "      <th>id</th>\n",
       "      <th>age</th>\n",
       "      <th>gender</th>\n",
       "      <th>height</th>\n",
       "      <th>weight</th>\n",
       "      <th>ap_hi</th>\n",
       "      <th>ap_lo</th>\n",
       "      <th>cholesterol</th>\n",
       "      <th>gluc</th>\n",
       "      <th>smoke</th>\n",
       "      <th>alco</th>\n",
       "      <th>active</th>\n",
       "      <th>cardio</th>\n",
       "      <th>age_years</th>\n",
       "      <th>bmi</th>\n",
       "      <th>bp_category</th>\n",
       "      <th>bp_category_encoded</th>\n",
       "    </tr>\n",
       "  </thead>\n",
       "  <tbody>\n",
       "    <tr>\n",
       "      <th>0</th>\n",
       "      <td>0</td>\n",
       "      <td>18393</td>\n",
       "      <td>2</td>\n",
       "      <td>168</td>\n",
       "      <td>62.0</td>\n",
       "      <td>110</td>\n",
       "      <td>80</td>\n",
       "      <td>1</td>\n",
       "      <td>1</td>\n",
       "      <td>0</td>\n",
       "      <td>0</td>\n",
       "      <td>1</td>\n",
       "      <td>0</td>\n",
       "      <td>50</td>\n",
       "      <td>21.967120</td>\n",
       "      <td>Hypertension Stage 1</td>\n",
       "      <td>Hypertension Stage 1</td>\n",
       "    </tr>\n",
       "    <tr>\n",
       "      <th>1</th>\n",
       "      <td>1</td>\n",
       "      <td>20228</td>\n",
       "      <td>1</td>\n",
       "      <td>156</td>\n",
       "      <td>85.0</td>\n",
       "      <td>140</td>\n",
       "      <td>90</td>\n",
       "      <td>3</td>\n",
       "      <td>1</td>\n",
       "      <td>0</td>\n",
       "      <td>0</td>\n",
       "      <td>1</td>\n",
       "      <td>1</td>\n",
       "      <td>55</td>\n",
       "      <td>34.927679</td>\n",
       "      <td>Hypertension Stage 2</td>\n",
       "      <td>Hypertension Stage 2</td>\n",
       "    </tr>\n",
       "    <tr>\n",
       "      <th>2</th>\n",
       "      <td>2</td>\n",
       "      <td>18857</td>\n",
       "      <td>1</td>\n",
       "      <td>165</td>\n",
       "      <td>64.0</td>\n",
       "      <td>130</td>\n",
       "      <td>70</td>\n",
       "      <td>3</td>\n",
       "      <td>1</td>\n",
       "      <td>0</td>\n",
       "      <td>0</td>\n",
       "      <td>0</td>\n",
       "      <td>1</td>\n",
       "      <td>51</td>\n",
       "      <td>23.507805</td>\n",
       "      <td>Hypertension Stage 1</td>\n",
       "      <td>Hypertension Stage 1</td>\n",
       "    </tr>\n",
       "  </tbody>\n",
       "</table>\n",
       "</div>"
      ],
      "text/plain": [
       "   id    age  gender  height  weight  ap_hi  ap_lo  cholesterol  gluc  smoke  \\\n",
       "0   0  18393       2     168    62.0    110     80            1     1      0   \n",
       "1   1  20228       1     156    85.0    140     90            3     1      0   \n",
       "2   2  18857       1     165    64.0    130     70            3     1      0   \n",
       "\n",
       "   alco  active  cardio  age_years        bmi           bp_category  \\\n",
       "0     0       1       0         50  21.967120  Hypertension Stage 1   \n",
       "1     0       1       1         55  34.927679  Hypertension Stage 2   \n",
       "2     0       0       1         51  23.507805  Hypertension Stage 1   \n",
       "\n",
       "    bp_category_encoded  \n",
       "0  Hypertension Stage 1  \n",
       "1  Hypertension Stage 2  \n",
       "2  Hypertension Stage 1  "
      ]
     },
     "execution_count": 3,
     "metadata": {},
     "output_type": "execute_result"
    }
   ],
   "source": [
    "#import dataset\n",
    "df = pd.read_csv('cardio_data.csv')       \n",
    "df.head(3)"
   ]
  },
  {
   "cell_type": "code",
   "execution_count": 4,
   "id": "adb3b08b-6a10-4417-9773-95776f7e1774",
   "metadata": {
    "tags": []
   },
   "outputs": [
    {
     "name": "stdout",
     "output_type": "stream",
     "text": [
      "<class 'pandas.core.frame.DataFrame'>\n",
      "RangeIndex: 68205 entries, 0 to 68204\n",
      "Data columns (total 17 columns):\n",
      " #   Column               Non-Null Count  Dtype  \n",
      "---  ------               --------------  -----  \n",
      " 0   id                   68205 non-null  int64  \n",
      " 1   age                  68205 non-null  int64  \n",
      " 2   gender               68205 non-null  int64  \n",
      " 3   height               68205 non-null  int64  \n",
      " 4   weight               68205 non-null  float64\n",
      " 5   ap_hi                68205 non-null  int64  \n",
      " 6   ap_lo                68205 non-null  int64  \n",
      " 7   cholesterol          68205 non-null  int64  \n",
      " 8   gluc                 68205 non-null  int64  \n",
      " 9   smoke                68205 non-null  int64  \n",
      " 10  alco                 68205 non-null  int64  \n",
      " 11  active               68205 non-null  int64  \n",
      " 12  cardio               68205 non-null  int64  \n",
      " 13  age_years            68205 non-null  int64  \n",
      " 14  bmi                  68205 non-null  float64\n",
      " 15  bp_category          68205 non-null  object \n",
      " 16  bp_category_encoded  68205 non-null  object \n",
      "dtypes: float64(2), int64(13), object(2)\n",
      "memory usage: 8.8+ MB\n"
     ]
    }
   ],
   "source": [
    "# information about the dataset\n",
    "df.info()"
   ]
  },
  {
   "cell_type": "code",
   "execution_count": 5,
   "id": "76799ca3-f9ec-4d06-b92d-5d2fc50c308d",
   "metadata": {
    "tags": []
   },
   "outputs": [
    {
     "data": {
      "text/html": [
       "<div>\n",
       "<style scoped>\n",
       "    .dataframe tbody tr th:only-of-type {\n",
       "        vertical-align: middle;\n",
       "    }\n",
       "\n",
       "    .dataframe tbody tr th {\n",
       "        vertical-align: top;\n",
       "    }\n",
       "\n",
       "    .dataframe thead th {\n",
       "        text-align: right;\n",
       "    }\n",
       "</style>\n",
       "<table border=\"1\" class=\"dataframe\">\n",
       "  <thead>\n",
       "    <tr style=\"text-align: right;\">\n",
       "      <th></th>\n",
       "      <th>id</th>\n",
       "      <th>age</th>\n",
       "      <th>gender</th>\n",
       "      <th>height</th>\n",
       "      <th>weight</th>\n",
       "      <th>ap_hi</th>\n",
       "      <th>ap_lo</th>\n",
       "      <th>cholesterol</th>\n",
       "      <th>gluc</th>\n",
       "      <th>smoke</th>\n",
       "      <th>alco</th>\n",
       "      <th>active</th>\n",
       "      <th>cardio</th>\n",
       "      <th>age_years</th>\n",
       "      <th>bmi</th>\n",
       "    </tr>\n",
       "  </thead>\n",
       "  <tbody>\n",
       "    <tr>\n",
       "      <th>count</th>\n",
       "      <td>68205.000000</td>\n",
       "      <td>68205.000000</td>\n",
       "      <td>68205.000000</td>\n",
       "      <td>68205.000000</td>\n",
       "      <td>68205.000000</td>\n",
       "      <td>68205.000000</td>\n",
       "      <td>68205.000000</td>\n",
       "      <td>68205.000000</td>\n",
       "      <td>68205.000000</td>\n",
       "      <td>68205.000000</td>\n",
       "      <td>68205.000000</td>\n",
       "      <td>68205.000000</td>\n",
       "      <td>68205.000000</td>\n",
       "      <td>68205.000000</td>\n",
       "      <td>68205.000000</td>\n",
       "    </tr>\n",
       "    <tr>\n",
       "      <th>mean</th>\n",
       "      <td>49972.410498</td>\n",
       "      <td>19462.667737</td>\n",
       "      <td>1.348625</td>\n",
       "      <td>164.372861</td>\n",
       "      <td>74.100688</td>\n",
       "      <td>126.434924</td>\n",
       "      <td>81.263925</td>\n",
       "      <td>1.363243</td>\n",
       "      <td>1.225174</td>\n",
       "      <td>0.087662</td>\n",
       "      <td>0.053134</td>\n",
       "      <td>0.803548</td>\n",
       "      <td>0.493688</td>\n",
       "      <td>52.823635</td>\n",
       "      <td>27.510513</td>\n",
       "    </tr>\n",
       "    <tr>\n",
       "      <th>std</th>\n",
       "      <td>28852.138290</td>\n",
       "      <td>2468.381854</td>\n",
       "      <td>0.476539</td>\n",
       "      <td>8.176756</td>\n",
       "      <td>14.288862</td>\n",
       "      <td>15.961685</td>\n",
       "      <td>9.143985</td>\n",
       "      <td>0.678080</td>\n",
       "      <td>0.571288</td>\n",
       "      <td>0.282805</td>\n",
       "      <td>0.224302</td>\n",
       "      <td>0.397317</td>\n",
       "      <td>0.499964</td>\n",
       "      <td>6.769909</td>\n",
       "      <td>6.026497</td>\n",
       "    </tr>\n",
       "    <tr>\n",
       "      <th>min</th>\n",
       "      <td>0.000000</td>\n",
       "      <td>10798.000000</td>\n",
       "      <td>1.000000</td>\n",
       "      <td>55.000000</td>\n",
       "      <td>11.000000</td>\n",
       "      <td>90.000000</td>\n",
       "      <td>60.000000</td>\n",
       "      <td>1.000000</td>\n",
       "      <td>1.000000</td>\n",
       "      <td>0.000000</td>\n",
       "      <td>0.000000</td>\n",
       "      <td>0.000000</td>\n",
       "      <td>0.000000</td>\n",
       "      <td>29.000000</td>\n",
       "      <td>3.471784</td>\n",
       "    </tr>\n",
       "    <tr>\n",
       "      <th>25%</th>\n",
       "      <td>24991.000000</td>\n",
       "      <td>17656.000000</td>\n",
       "      <td>1.000000</td>\n",
       "      <td>159.000000</td>\n",
       "      <td>65.000000</td>\n",
       "      <td>120.000000</td>\n",
       "      <td>80.000000</td>\n",
       "      <td>1.000000</td>\n",
       "      <td>1.000000</td>\n",
       "      <td>0.000000</td>\n",
       "      <td>0.000000</td>\n",
       "      <td>1.000000</td>\n",
       "      <td>0.000000</td>\n",
       "      <td>48.000000</td>\n",
       "      <td>23.875115</td>\n",
       "    </tr>\n",
       "    <tr>\n",
       "      <th>50%</th>\n",
       "      <td>50008.000000</td>\n",
       "      <td>19700.000000</td>\n",
       "      <td>1.000000</td>\n",
       "      <td>165.000000</td>\n",
       "      <td>72.000000</td>\n",
       "      <td>120.000000</td>\n",
       "      <td>80.000000</td>\n",
       "      <td>1.000000</td>\n",
       "      <td>1.000000</td>\n",
       "      <td>0.000000</td>\n",
       "      <td>0.000000</td>\n",
       "      <td>1.000000</td>\n",
       "      <td>0.000000</td>\n",
       "      <td>53.000000</td>\n",
       "      <td>26.346494</td>\n",
       "    </tr>\n",
       "    <tr>\n",
       "      <th>75%</th>\n",
       "      <td>74878.000000</td>\n",
       "      <td>21323.000000</td>\n",
       "      <td>2.000000</td>\n",
       "      <td>170.000000</td>\n",
       "      <td>82.000000</td>\n",
       "      <td>140.000000</td>\n",
       "      <td>90.000000</td>\n",
       "      <td>1.000000</td>\n",
       "      <td>1.000000</td>\n",
       "      <td>0.000000</td>\n",
       "      <td>0.000000</td>\n",
       "      <td>1.000000</td>\n",
       "      <td>1.000000</td>\n",
       "      <td>58.000000</td>\n",
       "      <td>30.116213</td>\n",
       "    </tr>\n",
       "    <tr>\n",
       "      <th>max</th>\n",
       "      <td>99999.000000</td>\n",
       "      <td>23713.000000</td>\n",
       "      <td>2.000000</td>\n",
       "      <td>250.000000</td>\n",
       "      <td>200.000000</td>\n",
       "      <td>180.000000</td>\n",
       "      <td>120.000000</td>\n",
       "      <td>3.000000</td>\n",
       "      <td>3.000000</td>\n",
       "      <td>1.000000</td>\n",
       "      <td>1.000000</td>\n",
       "      <td>1.000000</td>\n",
       "      <td>1.000000</td>\n",
       "      <td>64.000000</td>\n",
       "      <td>298.666667</td>\n",
       "    </tr>\n",
       "  </tbody>\n",
       "</table>\n",
       "</div>"
      ],
      "text/plain": [
       "                 id           age        gender        height        weight  \\\n",
       "count  68205.000000  68205.000000  68205.000000  68205.000000  68205.000000   \n",
       "mean   49972.410498  19462.667737      1.348625    164.372861     74.100688   \n",
       "std    28852.138290   2468.381854      0.476539      8.176756     14.288862   \n",
       "min        0.000000  10798.000000      1.000000     55.000000     11.000000   \n",
       "25%    24991.000000  17656.000000      1.000000    159.000000     65.000000   \n",
       "50%    50008.000000  19700.000000      1.000000    165.000000     72.000000   \n",
       "75%    74878.000000  21323.000000      2.000000    170.000000     82.000000   \n",
       "max    99999.000000  23713.000000      2.000000    250.000000    200.000000   \n",
       "\n",
       "              ap_hi         ap_lo   cholesterol          gluc         smoke  \\\n",
       "count  68205.000000  68205.000000  68205.000000  68205.000000  68205.000000   \n",
       "mean     126.434924     81.263925      1.363243      1.225174      0.087662   \n",
       "std       15.961685      9.143985      0.678080      0.571288      0.282805   \n",
       "min       90.000000     60.000000      1.000000      1.000000      0.000000   \n",
       "25%      120.000000     80.000000      1.000000      1.000000      0.000000   \n",
       "50%      120.000000     80.000000      1.000000      1.000000      0.000000   \n",
       "75%      140.000000     90.000000      1.000000      1.000000      0.000000   \n",
       "max      180.000000    120.000000      3.000000      3.000000      1.000000   \n",
       "\n",
       "               alco        active        cardio     age_years           bmi  \n",
       "count  68205.000000  68205.000000  68205.000000  68205.000000  68205.000000  \n",
       "mean       0.053134      0.803548      0.493688     52.823635     27.510513  \n",
       "std        0.224302      0.397317      0.499964      6.769909      6.026497  \n",
       "min        0.000000      0.000000      0.000000     29.000000      3.471784  \n",
       "25%        0.000000      1.000000      0.000000     48.000000     23.875115  \n",
       "50%        0.000000      1.000000      0.000000     53.000000     26.346494  \n",
       "75%        0.000000      1.000000      1.000000     58.000000     30.116213  \n",
       "max        1.000000      1.000000      1.000000     64.000000    298.666667  "
      ]
     },
     "execution_count": 5,
     "metadata": {},
     "output_type": "execute_result"
    }
   ],
   "source": [
    "#description about dataset\n",
    "df.describe()"
   ]
  },
  {
   "cell_type": "code",
   "execution_count": 6,
   "id": "2308b8f2-8dbf-4e9d-92d5-c86dd8cd0ef8",
   "metadata": {
    "tags": []
   },
   "outputs": [
    {
     "data": {
      "text/plain": [
       "(68205, 17)"
      ]
     },
     "execution_count": 6,
     "metadata": {},
     "output_type": "execute_result"
    }
   ],
   "source": [
    "df.shape"
   ]
  },
  {
   "cell_type": "code",
   "execution_count": 7,
   "id": "77b3a1f4-e5fe-46b2-80fe-314ee5e0eb6b",
   "metadata": {
    "tags": []
   },
   "outputs": [
    {
     "data": {
      "text/plain": [
       "id                       int64\n",
       "age                      int64\n",
       "gender                   int64\n",
       "height                   int64\n",
       "weight                 float64\n",
       "ap_hi                    int64\n",
       "ap_lo                    int64\n",
       "cholesterol              int64\n",
       "gluc                     int64\n",
       "smoke                    int64\n",
       "alco                     int64\n",
       "active                   int64\n",
       "cardio                   int64\n",
       "age_years                int64\n",
       "bmi                    float64\n",
       "bp_category             object\n",
       "bp_category_encoded     object\n",
       "dtype: object"
      ]
     },
     "execution_count": 7,
     "metadata": {},
     "output_type": "execute_result"
    }
   ],
   "source": [
    "df.dtypes"
   ]
  },
  {
   "cell_type": "markdown",
   "id": "4cdee4cd-97ea-42f0-9cf8-51667a1c674f",
   "metadata": {},
   "source": [
    "<h2>Checking for Missing Values</h2>"
   ]
  },
  {
   "cell_type": "code",
   "execution_count": 8,
   "id": "658b51b1-883a-4468-9317-54358d61089d",
   "metadata": {},
   "outputs": [
    {
     "name": "stdout",
     "output_type": "stream",
     "text": [
      "id                     0\n",
      "age                    0\n",
      "gender                 0\n",
      "height                 0\n",
      "weight                 0\n",
      "ap_hi                  0\n",
      "ap_lo                  0\n",
      "cholesterol            0\n",
      "gluc                   0\n",
      "smoke                  0\n",
      "alco                   0\n",
      "active                 0\n",
      "cardio                 0\n",
      "age_years              0\n",
      "bmi                    0\n",
      "bp_category            0\n",
      "bp_category_encoded    0\n",
      "dtype: int64\n"
     ]
    }
   ],
   "source": [
    "missing_values = df.isna().sum()\n",
    "print(missing_values)"
   ]
  },
  {
   "cell_type": "markdown",
   "id": "241fe4bc-5d45-4dc9-9552-e36f2ae0c8a1",
   "metadata": {},
   "source": [
    "<h2>Checking for Duplicates</h2>"
   ]
  },
  {
   "cell_type": "code",
   "execution_count": 9,
   "id": "b5d4b38d-6a56-4f8e-abee-97883b9863c1",
   "metadata": {
    "tags": []
   },
   "outputs": [
    {
     "data": {
      "text/plain": [
       "array([False])"
      ]
     },
     "execution_count": 9,
     "metadata": {},
     "output_type": "execute_result"
    }
   ],
   "source": [
    "duplicate_rows = df.duplicated()\n",
    "duplicate_rows.unique() # if the array has only false if unqiue, then no duplicates are present."
   ]
  },
  {
   "cell_type": "markdown",
   "id": "db80a48d-8cc8-4f2f-bb3c-2cd4400b6c27",
   "metadata": {},
   "source": [
    "<h1>Checking for Outliers</h1>"
   ]
  },
  {
   "cell_type": "markdown",
   "id": "f408b52b-1754-4fbc-9672-ff19a4753426",
   "metadata": {
    "tags": []
   },
   "source": [
    "<h3>Outliers based on weight</h3>"
   ]
  },
  {
   "cell_type": "code",
   "execution_count": 10,
   "id": "c75f4f0e-b46a-446c-a56b-d44dfec2b1b3",
   "metadata": {
    "tags": []
   },
   "outputs": [],
   "source": [
    "# Calculate Q1 and Q3\n",
    "Q1 = df['weight'].quantile(0.25)\n",
    "Q3 = df['weight'].quantile(0.75)\n",
    "\n",
    "# Calculate IQR\n",
    "IQR = Q3 - Q1\n",
    "\n",
    "# Define lower and upper bounds for outliers\n",
    "lower_bound = Q1 - 1.5 * IQR\n",
    "upper_bound = Q3 + 1.5 * IQR\n",
    "outliers = (df['weight'] < lower_bound) | (df['weight'] > upper_bound)\n",
    "\n",
    "# Get the rows with outliers\n",
    "outlier_rows = df[outliers]"
   ]
  },
  {
   "cell_type": "code",
   "execution_count": 11,
   "id": "40d79095-1402-42dc-a4f3-231befbb3b93",
   "metadata": {
    "tags": []
   },
   "outputs": [
    {
     "data": {
      "text/html": [
       "<div>\n",
       "<style scoped>\n",
       "    .dataframe tbody tr th:only-of-type {\n",
       "        vertical-align: middle;\n",
       "    }\n",
       "\n",
       "    .dataframe tbody tr th {\n",
       "        vertical-align: top;\n",
       "    }\n",
       "\n",
       "    .dataframe thead th {\n",
       "        text-align: right;\n",
       "    }\n",
       "</style>\n",
       "<table border=\"1\" class=\"dataframe\">\n",
       "  <thead>\n",
       "    <tr style=\"text-align: right;\">\n",
       "      <th></th>\n",
       "      <th>id</th>\n",
       "      <th>age</th>\n",
       "      <th>gender</th>\n",
       "      <th>height</th>\n",
       "      <th>weight</th>\n",
       "      <th>ap_hi</th>\n",
       "      <th>ap_lo</th>\n",
       "      <th>cholesterol</th>\n",
       "      <th>gluc</th>\n",
       "      <th>smoke</th>\n",
       "      <th>alco</th>\n",
       "      <th>active</th>\n",
       "      <th>cardio</th>\n",
       "      <th>age_years</th>\n",
       "      <th>bmi</th>\n",
       "      <th>bp_category</th>\n",
       "      <th>bp_category_encoded</th>\n",
       "    </tr>\n",
       "  </thead>\n",
       "  <tbody>\n",
       "    <tr>\n",
       "      <th>15</th>\n",
       "      <td>24</td>\n",
       "      <td>16782</td>\n",
       "      <td>2</td>\n",
       "      <td>172</td>\n",
       "      <td>112.0</td>\n",
       "      <td>120</td>\n",
       "      <td>80</td>\n",
       "      <td>1</td>\n",
       "      <td>1</td>\n",
       "      <td>0</td>\n",
       "      <td>0</td>\n",
       "      <td>0</td>\n",
       "      <td>1</td>\n",
       "      <td>45</td>\n",
       "      <td>37.858302</td>\n",
       "      <td>Hypertension Stage 1</td>\n",
       "      <td>Hypertension Stage 1</td>\n",
       "    </tr>\n",
       "    <tr>\n",
       "      <th>62</th>\n",
       "      <td>81</td>\n",
       "      <td>20330</td>\n",
       "      <td>2</td>\n",
       "      <td>187</td>\n",
       "      <td>115.0</td>\n",
       "      <td>130</td>\n",
       "      <td>90</td>\n",
       "      <td>1</td>\n",
       "      <td>1</td>\n",
       "      <td>0</td>\n",
       "      <td>1</td>\n",
       "      <td>1</td>\n",
       "      <td>0</td>\n",
       "      <td>55</td>\n",
       "      <td>32.886271</td>\n",
       "      <td>Hypertension Stage 1</td>\n",
       "      <td>Hypertension Stage 1</td>\n",
       "    </tr>\n",
       "    <tr>\n",
       "      <th>83</th>\n",
       "      <td>114</td>\n",
       "      <td>19570</td>\n",
       "      <td>1</td>\n",
       "      <td>152</td>\n",
       "      <td>110.0</td>\n",
       "      <td>160</td>\n",
       "      <td>90</td>\n",
       "      <td>1</td>\n",
       "      <td>1</td>\n",
       "      <td>0</td>\n",
       "      <td>0</td>\n",
       "      <td>1</td>\n",
       "      <td>1</td>\n",
       "      <td>53</td>\n",
       "      <td>47.610803</td>\n",
       "      <td>Hypertension Stage 2</td>\n",
       "      <td>Hypertension Stage 2</td>\n",
       "    </tr>\n",
       "    <tr>\n",
       "      <th>195</th>\n",
       "      <td>267</td>\n",
       "      <td>22675</td>\n",
       "      <td>1</td>\n",
       "      <td>176</td>\n",
       "      <td>108.0</td>\n",
       "      <td>140</td>\n",
       "      <td>90</td>\n",
       "      <td>1</td>\n",
       "      <td>1</td>\n",
       "      <td>0</td>\n",
       "      <td>0</td>\n",
       "      <td>0</td>\n",
       "      <td>0</td>\n",
       "      <td>62</td>\n",
       "      <td>34.865702</td>\n",
       "      <td>Hypertension Stage 2</td>\n",
       "      <td>Hypertension Stage 2</td>\n",
       "    </tr>\n",
       "    <tr>\n",
       "      <th>262</th>\n",
       "      <td>366</td>\n",
       "      <td>17460</td>\n",
       "      <td>1</td>\n",
       "      <td>165</td>\n",
       "      <td>115.0</td>\n",
       "      <td>150</td>\n",
       "      <td>100</td>\n",
       "      <td>1</td>\n",
       "      <td>1</td>\n",
       "      <td>0</td>\n",
       "      <td>0</td>\n",
       "      <td>1</td>\n",
       "      <td>1</td>\n",
       "      <td>47</td>\n",
       "      <td>42.240588</td>\n",
       "      <td>Hypertension Stage 2</td>\n",
       "      <td>Hypertension Stage 2</td>\n",
       "    </tr>\n",
       "    <tr>\n",
       "      <th>...</th>\n",
       "      <td>...</td>\n",
       "      <td>...</td>\n",
       "      <td>...</td>\n",
       "      <td>...</td>\n",
       "      <td>...</td>\n",
       "      <td>...</td>\n",
       "      <td>...</td>\n",
       "      <td>...</td>\n",
       "      <td>...</td>\n",
       "      <td>...</td>\n",
       "      <td>...</td>\n",
       "      <td>...</td>\n",
       "      <td>...</td>\n",
       "      <td>...</td>\n",
       "      <td>...</td>\n",
       "      <td>...</td>\n",
       "      <td>...</td>\n",
       "    </tr>\n",
       "    <tr>\n",
       "      <th>68082</th>\n",
       "      <td>99799</td>\n",
       "      <td>19736</td>\n",
       "      <td>2</td>\n",
       "      <td>188</td>\n",
       "      <td>108.0</td>\n",
       "      <td>130</td>\n",
       "      <td>80</td>\n",
       "      <td>2</td>\n",
       "      <td>2</td>\n",
       "      <td>0</td>\n",
       "      <td>1</td>\n",
       "      <td>0</td>\n",
       "      <td>1</td>\n",
       "      <td>54</td>\n",
       "      <td>30.556813</td>\n",
       "      <td>Hypertension Stage 1</td>\n",
       "      <td>Hypertension Stage 1</td>\n",
       "    </tr>\n",
       "    <tr>\n",
       "      <th>68152</th>\n",
       "      <td>99925</td>\n",
       "      <td>21333</td>\n",
       "      <td>1</td>\n",
       "      <td>164</td>\n",
       "      <td>115.0</td>\n",
       "      <td>130</td>\n",
       "      <td>80</td>\n",
       "      <td>1</td>\n",
       "      <td>1</td>\n",
       "      <td>0</td>\n",
       "      <td>0</td>\n",
       "      <td>1</td>\n",
       "      <td>1</td>\n",
       "      <td>58</td>\n",
       "      <td>42.757287</td>\n",
       "      <td>Hypertension Stage 1</td>\n",
       "      <td>Hypertension Stage 1</td>\n",
       "    </tr>\n",
       "    <tr>\n",
       "      <th>68153</th>\n",
       "      <td>99930</td>\n",
       "      <td>23305</td>\n",
       "      <td>2</td>\n",
       "      <td>172</td>\n",
       "      <td>113.0</td>\n",
       "      <td>110</td>\n",
       "      <td>80</td>\n",
       "      <td>1</td>\n",
       "      <td>1</td>\n",
       "      <td>0</td>\n",
       "      <td>0</td>\n",
       "      <td>0</td>\n",
       "      <td>1</td>\n",
       "      <td>63</td>\n",
       "      <td>38.196322</td>\n",
       "      <td>Hypertension Stage 1</td>\n",
       "      <td>Hypertension Stage 1</td>\n",
       "    </tr>\n",
       "    <tr>\n",
       "      <th>68186</th>\n",
       "      <td>99972</td>\n",
       "      <td>17500</td>\n",
       "      <td>2</td>\n",
       "      <td>182</td>\n",
       "      <td>110.0</td>\n",
       "      <td>130</td>\n",
       "      <td>90</td>\n",
       "      <td>2</td>\n",
       "      <td>2</td>\n",
       "      <td>0</td>\n",
       "      <td>0</td>\n",
       "      <td>1</td>\n",
       "      <td>1</td>\n",
       "      <td>47</td>\n",
       "      <td>33.208550</td>\n",
       "      <td>Hypertension Stage 1</td>\n",
       "      <td>Hypertension Stage 1</td>\n",
       "    </tr>\n",
       "    <tr>\n",
       "      <th>68201</th>\n",
       "      <td>99995</td>\n",
       "      <td>22601</td>\n",
       "      <td>1</td>\n",
       "      <td>158</td>\n",
       "      <td>126.0</td>\n",
       "      <td>140</td>\n",
       "      <td>90</td>\n",
       "      <td>2</td>\n",
       "      <td>2</td>\n",
       "      <td>0</td>\n",
       "      <td>0</td>\n",
       "      <td>1</td>\n",
       "      <td>1</td>\n",
       "      <td>61</td>\n",
       "      <td>50.472681</td>\n",
       "      <td>Hypertension Stage 2</td>\n",
       "      <td>Hypertension Stage 2</td>\n",
       "    </tr>\n",
       "  </tbody>\n",
       "</table>\n",
       "<p>1711 rows × 17 columns</p>\n",
       "</div>"
      ],
      "text/plain": [
       "          id    age  gender  height  weight  ap_hi  ap_lo  cholesterol  gluc  \\\n",
       "15        24  16782       2     172   112.0    120     80            1     1   \n",
       "62        81  20330       2     187   115.0    130     90            1     1   \n",
       "83       114  19570       1     152   110.0    160     90            1     1   \n",
       "195      267  22675       1     176   108.0    140     90            1     1   \n",
       "262      366  17460       1     165   115.0    150    100            1     1   \n",
       "...      ...    ...     ...     ...     ...    ...    ...          ...   ...   \n",
       "68082  99799  19736       2     188   108.0    130     80            2     2   \n",
       "68152  99925  21333       1     164   115.0    130     80            1     1   \n",
       "68153  99930  23305       2     172   113.0    110     80            1     1   \n",
       "68186  99972  17500       2     182   110.0    130     90            2     2   \n",
       "68201  99995  22601       1     158   126.0    140     90            2     2   \n",
       "\n",
       "       smoke  alco  active  cardio  age_years        bmi  \\\n",
       "15         0     0       0       1         45  37.858302   \n",
       "62         0     1       1       0         55  32.886271   \n",
       "83         0     0       1       1         53  47.610803   \n",
       "195        0     0       0       0         62  34.865702   \n",
       "262        0     0       1       1         47  42.240588   \n",
       "...      ...   ...     ...     ...        ...        ...   \n",
       "68082      0     1       0       1         54  30.556813   \n",
       "68152      0     0       1       1         58  42.757287   \n",
       "68153      0     0       0       1         63  38.196322   \n",
       "68186      0     0       1       1         47  33.208550   \n",
       "68201      0     0       1       1         61  50.472681   \n",
       "\n",
       "                bp_category   bp_category_encoded  \n",
       "15     Hypertension Stage 1  Hypertension Stage 1  \n",
       "62     Hypertension Stage 1  Hypertension Stage 1  \n",
       "83     Hypertension Stage 2  Hypertension Stage 2  \n",
       "195    Hypertension Stage 2  Hypertension Stage 2  \n",
       "262    Hypertension Stage 2  Hypertension Stage 2  \n",
       "...                     ...                   ...  \n",
       "68082  Hypertension Stage 1  Hypertension Stage 1  \n",
       "68152  Hypertension Stage 1  Hypertension Stage 1  \n",
       "68153  Hypertension Stage 1  Hypertension Stage 1  \n",
       "68186  Hypertension Stage 1  Hypertension Stage 1  \n",
       "68201  Hypertension Stage 2  Hypertension Stage 2  \n",
       "\n",
       "[1711 rows x 17 columns]"
      ]
     },
     "execution_count": 11,
     "metadata": {},
     "output_type": "execute_result"
    }
   ],
   "source": [
    "outlier_rows"
   ]
  },
  {
   "cell_type": "code",
   "execution_count": 12,
   "id": "f5ab3608-d3b9-465f-a99c-25873cac8143",
   "metadata": {
    "tags": []
   },
   "outputs": [],
   "source": [
    "outlier_indices = outlier_rows.index\n",
    "\n",
    "# Use boolean indexing to keep only the non-outlier rows in 'df'\n",
    "df = df[~df.index.isin(outlier_indices)]"
   ]
  },
  {
   "cell_type": "code",
   "execution_count": 13,
   "id": "5d366af3-3bc3-4dfb-9ee6-f68acfd37e28",
   "metadata": {
    "tags": []
   },
   "outputs": [
    {
     "data": {
      "text/plain": [
       "(66494, 17)"
      ]
     },
     "execution_count": 13,
     "metadata": {},
     "output_type": "execute_result"
    }
   ],
   "source": [
    "df.shape"
   ]
  },
  {
   "cell_type": "markdown",
   "id": "cee60b80-33be-452d-b448-e2e732f4cab6",
   "metadata": {
    "tags": []
   },
   "source": [
    "<h3>Outliers based on height</h3>"
   ]
  },
  {
   "cell_type": "code",
   "execution_count": 14,
   "id": "e145cc0d-e23b-4198-8bbb-c0f80420d2f1",
   "metadata": {
    "tags": []
   },
   "outputs": [],
   "source": [
    "# Calculate Q1 and Q3\n",
    "Q1 = df['height'].quantile(0.25)\n",
    "Q3 = df['height'].quantile(0.75)\n",
    "\n",
    "# Calculate IQR\n",
    "IQR = Q3 - Q1\n",
    "\n",
    "# Define lower and upper bounds for outliers\n",
    "lower_bound = Q1 - 1.5 * IQR\n",
    "upper_bound = Q3 + 1.5 * IQR\n",
    "outliers = (df['height'] < lower_bound) | (df['height'] > upper_bound)\n",
    "\n",
    "# Get the rows with outliers\n",
    "outlier_rows = df[outliers]\n",
    "\n",
    "outlier_indices = outlier_rows.index\n",
    "\n",
    "# Use boolean indexing to keep only the non-outlier rows in 'df'\n",
    "df = df[~df.index.isin(outlier_indices)]"
   ]
  },
  {
   "cell_type": "code",
   "execution_count": 15,
   "id": "b57e43bb-d222-4fe8-8401-e19baaebc08a",
   "metadata": {
    "tags": []
   },
   "outputs": [
    {
     "data": {
      "text/plain": [
       "(66051, 17)"
      ]
     },
     "execution_count": 15,
     "metadata": {},
     "output_type": "execute_result"
    }
   ],
   "source": [
    "df.shape"
   ]
  },
  {
   "cell_type": "markdown",
   "id": "af3f4413-f062-4561-8685-590b6d28119e",
   "metadata": {},
   "source": [
    "<h1>Data Transformation</h1>"
   ]
  },
  {
   "cell_type": "markdown",
   "id": "229437fe-a9a3-4381-b23b-aba87fc976b8",
   "metadata": {
    "tags": []
   },
   "source": [
    "<h2>Renaming Variables for ease</h2>"
   ]
  },
  {
   "cell_type": "code",
   "execution_count": 16,
   "id": "d3ca9a16-43fd-44e8-b73e-ad7aeea7c1d9",
   "metadata": {
    "tags": []
   },
   "outputs": [],
   "source": [
    "new_column_names = {\n",
    "    'ap_hi': 'Systolic_BP',\n",
    "    'ap_lo': 'Diastolic_BP',\n",
    "    'gluc': 'Glucose_Level',\n",
    "    # Add more columns as needed\n",
    "}\n",
    "\n",
    "# Use the rename() method to rename the columns\n",
    "df.rename(columns=new_column_names, inplace=True)"
   ]
  },
  {
   "cell_type": "code",
   "execution_count": 17,
   "id": "1744e0f3-30fe-4441-a7e4-2467d40b856d",
   "metadata": {
    "tags": []
   },
   "outputs": [
    {
     "data": {
      "text/html": [
       "<div>\n",
       "<style scoped>\n",
       "    .dataframe tbody tr th:only-of-type {\n",
       "        vertical-align: middle;\n",
       "    }\n",
       "\n",
       "    .dataframe tbody tr th {\n",
       "        vertical-align: top;\n",
       "    }\n",
       "\n",
       "    .dataframe thead th {\n",
       "        text-align: right;\n",
       "    }\n",
       "</style>\n",
       "<table border=\"1\" class=\"dataframe\">\n",
       "  <thead>\n",
       "    <tr style=\"text-align: right;\">\n",
       "      <th></th>\n",
       "      <th>id</th>\n",
       "      <th>age</th>\n",
       "      <th>gender</th>\n",
       "      <th>height</th>\n",
       "      <th>weight</th>\n",
       "      <th>Systolic_BP</th>\n",
       "      <th>Diastolic_BP</th>\n",
       "      <th>cholesterol</th>\n",
       "      <th>Glucose_Level</th>\n",
       "      <th>smoke</th>\n",
       "      <th>alco</th>\n",
       "      <th>active</th>\n",
       "      <th>cardio</th>\n",
       "      <th>age_years</th>\n",
       "      <th>bmi</th>\n",
       "      <th>bp_category</th>\n",
       "      <th>bp_category_encoded</th>\n",
       "    </tr>\n",
       "  </thead>\n",
       "  <tbody>\n",
       "    <tr>\n",
       "      <th>0</th>\n",
       "      <td>0</td>\n",
       "      <td>18393</td>\n",
       "      <td>2</td>\n",
       "      <td>168</td>\n",
       "      <td>62.0</td>\n",
       "      <td>110</td>\n",
       "      <td>80</td>\n",
       "      <td>1</td>\n",
       "      <td>1</td>\n",
       "      <td>0</td>\n",
       "      <td>0</td>\n",
       "      <td>1</td>\n",
       "      <td>0</td>\n",
       "      <td>50</td>\n",
       "      <td>21.967120</td>\n",
       "      <td>Hypertension Stage 1</td>\n",
       "      <td>Hypertension Stage 1</td>\n",
       "    </tr>\n",
       "    <tr>\n",
       "      <th>1</th>\n",
       "      <td>1</td>\n",
       "      <td>20228</td>\n",
       "      <td>1</td>\n",
       "      <td>156</td>\n",
       "      <td>85.0</td>\n",
       "      <td>140</td>\n",
       "      <td>90</td>\n",
       "      <td>3</td>\n",
       "      <td>1</td>\n",
       "      <td>0</td>\n",
       "      <td>0</td>\n",
       "      <td>1</td>\n",
       "      <td>1</td>\n",
       "      <td>55</td>\n",
       "      <td>34.927679</td>\n",
       "      <td>Hypertension Stage 2</td>\n",
       "      <td>Hypertension Stage 2</td>\n",
       "    </tr>\n",
       "  </tbody>\n",
       "</table>\n",
       "</div>"
      ],
      "text/plain": [
       "   id    age  gender  height  weight  Systolic_BP  Diastolic_BP  cholesterol  \\\n",
       "0   0  18393       2     168    62.0          110            80            1   \n",
       "1   1  20228       1     156    85.0          140            90            3   \n",
       "\n",
       "   Glucose_Level  smoke  alco  active  cardio  age_years        bmi  \\\n",
       "0              1      0     0       1       0         50  21.967120   \n",
       "1              1      0     0       1       1         55  34.927679   \n",
       "\n",
       "            bp_category   bp_category_encoded  \n",
       "0  Hypertension Stage 1  Hypertension Stage 1  \n",
       "1  Hypertension Stage 2  Hypertension Stage 2  "
      ]
     },
     "execution_count": 17,
     "metadata": {},
     "output_type": "execute_result"
    }
   ],
   "source": [
    "df.head(2)"
   ]
  },
  {
   "cell_type": "markdown",
   "id": "ecd47ca4-b886-4462-af83-ce39c22ca951",
   "metadata": {},
   "source": [
    "<h2> 0-->Male,   1-->Female Encoding</h2>"
   ]
  },
  {
   "cell_type": "code",
   "execution_count": 18,
   "id": "54724530-c123-4814-b50f-c27ed9bf02d0",
   "metadata": {
    "tags": []
   },
   "outputs": [],
   "source": [
    "value_mapping = {2: 0} # 0 represents MALE\n",
    "                       # 1 represents FEMALE\n",
    "\n",
    "# Use the .replace() method to perform the mapping\n",
    "df['gender'] = df['gender'].replace(value_mapping)"
   ]
  },
  {
   "cell_type": "code",
   "execution_count": 19,
   "id": "e7c95c73-4b18-4fe2-9e0f-bcc7d03e3a1d",
   "metadata": {
    "tags": []
   },
   "outputs": [
    {
     "name": "stdout",
     "output_type": "stream",
     "text": [
      "<class 'pandas.core.frame.DataFrame'>\n",
      "Int64Index: 66051 entries, 0 to 68204\n",
      "Data columns (total 17 columns):\n",
      " #   Column               Non-Null Count  Dtype  \n",
      "---  ------               --------------  -----  \n",
      " 0   id                   66051 non-null  int64  \n",
      " 1   age                  66051 non-null  int64  \n",
      " 2   gender               66051 non-null  int64  \n",
      " 3   height               66051 non-null  int64  \n",
      " 4   weight               66051 non-null  float64\n",
      " 5   Systolic_BP          66051 non-null  int64  \n",
      " 6   Diastolic_BP         66051 non-null  int64  \n",
      " 7   cholesterol          66051 non-null  int64  \n",
      " 8   Glucose_Level        66051 non-null  int64  \n",
      " 9   smoke                66051 non-null  int64  \n",
      " 10  alco                 66051 non-null  int64  \n",
      " 11  active               66051 non-null  int64  \n",
      " 12  cardio               66051 non-null  int64  \n",
      " 13  age_years            66051 non-null  int64  \n",
      " 14  bmi                  66051 non-null  float64\n",
      " 15  bp_category          66051 non-null  object \n",
      " 16  bp_category_encoded  66051 non-null  object \n",
      "dtypes: float64(2), int64(13), object(2)\n",
      "memory usage: 9.1+ MB\n"
     ]
    }
   ],
   "source": [
    "df.info()"
   ]
  },
  {
   "cell_type": "markdown",
   "id": "07094dd1-9980-41d1-86d2-b21250da44f9",
   "metadata": {},
   "source": [
    "<h1>Normalization and Standardization</h1>"
   ]
  },
  {
   "cell_type": "code",
   "execution_count": 20,
   "id": "2a5a8788-0e21-4deb-9ac7-e59e34895059",
   "metadata": {
    "tags": []
   },
   "outputs": [
    {
     "data": {
      "text/html": [
       "<div>\n",
       "<style scoped>\n",
       "    .dataframe tbody tr th:only-of-type {\n",
       "        vertical-align: middle;\n",
       "    }\n",
       "\n",
       "    .dataframe tbody tr th {\n",
       "        vertical-align: top;\n",
       "    }\n",
       "\n",
       "    .dataframe thead th {\n",
       "        text-align: right;\n",
       "    }\n",
       "</style>\n",
       "<table border=\"1\" class=\"dataframe\">\n",
       "  <thead>\n",
       "    <tr style=\"text-align: right;\">\n",
       "      <th></th>\n",
       "      <th>id</th>\n",
       "      <th>age</th>\n",
       "      <th>gender</th>\n",
       "      <th>height</th>\n",
       "      <th>weight</th>\n",
       "      <th>Systolic_BP</th>\n",
       "      <th>Diastolic_BP</th>\n",
       "      <th>cholesterol</th>\n",
       "      <th>Glucose_Level</th>\n",
       "      <th>smoke</th>\n",
       "      <th>alco</th>\n",
       "      <th>active</th>\n",
       "      <th>cardio</th>\n",
       "      <th>age_years</th>\n",
       "      <th>bmi</th>\n",
       "      <th>bp_category</th>\n",
       "      <th>bp_category_encoded</th>\n",
       "    </tr>\n",
       "  </thead>\n",
       "  <tbody>\n",
       "    <tr>\n",
       "      <th>0</th>\n",
       "      <td>0</td>\n",
       "      <td>18393</td>\n",
       "      <td>0</td>\n",
       "      <td>168</td>\n",
       "      <td>62.0</td>\n",
       "      <td>110</td>\n",
       "      <td>80</td>\n",
       "      <td>1</td>\n",
       "      <td>1</td>\n",
       "      <td>0</td>\n",
       "      <td>0</td>\n",
       "      <td>1</td>\n",
       "      <td>0</td>\n",
       "      <td>50</td>\n",
       "      <td>21.967120</td>\n",
       "      <td>Hypertension Stage 1</td>\n",
       "      <td>Hypertension Stage 1</td>\n",
       "    </tr>\n",
       "    <tr>\n",
       "      <th>1</th>\n",
       "      <td>1</td>\n",
       "      <td>20228</td>\n",
       "      <td>1</td>\n",
       "      <td>156</td>\n",
       "      <td>85.0</td>\n",
       "      <td>140</td>\n",
       "      <td>90</td>\n",
       "      <td>3</td>\n",
       "      <td>1</td>\n",
       "      <td>0</td>\n",
       "      <td>0</td>\n",
       "      <td>1</td>\n",
       "      <td>1</td>\n",
       "      <td>55</td>\n",
       "      <td>34.927679</td>\n",
       "      <td>Hypertension Stage 2</td>\n",
       "      <td>Hypertension Stage 2</td>\n",
       "    </tr>\n",
       "    <tr>\n",
       "      <th>2</th>\n",
       "      <td>2</td>\n",
       "      <td>18857</td>\n",
       "      <td>1</td>\n",
       "      <td>165</td>\n",
       "      <td>64.0</td>\n",
       "      <td>130</td>\n",
       "      <td>70</td>\n",
       "      <td>3</td>\n",
       "      <td>1</td>\n",
       "      <td>0</td>\n",
       "      <td>0</td>\n",
       "      <td>0</td>\n",
       "      <td>1</td>\n",
       "      <td>51</td>\n",
       "      <td>23.507805</td>\n",
       "      <td>Hypertension Stage 1</td>\n",
       "      <td>Hypertension Stage 1</td>\n",
       "    </tr>\n",
       "    <tr>\n",
       "      <th>3</th>\n",
       "      <td>3</td>\n",
       "      <td>17623</td>\n",
       "      <td>0</td>\n",
       "      <td>169</td>\n",
       "      <td>82.0</td>\n",
       "      <td>150</td>\n",
       "      <td>100</td>\n",
       "      <td>1</td>\n",
       "      <td>1</td>\n",
       "      <td>0</td>\n",
       "      <td>0</td>\n",
       "      <td>1</td>\n",
       "      <td>1</td>\n",
       "      <td>48</td>\n",
       "      <td>28.710479</td>\n",
       "      <td>Hypertension Stage 2</td>\n",
       "      <td>Hypertension Stage 2</td>\n",
       "    </tr>\n",
       "    <tr>\n",
       "      <th>4</th>\n",
       "      <td>4</td>\n",
       "      <td>17474</td>\n",
       "      <td>1</td>\n",
       "      <td>156</td>\n",
       "      <td>56.0</td>\n",
       "      <td>100</td>\n",
       "      <td>60</td>\n",
       "      <td>1</td>\n",
       "      <td>1</td>\n",
       "      <td>0</td>\n",
       "      <td>0</td>\n",
       "      <td>0</td>\n",
       "      <td>0</td>\n",
       "      <td>47</td>\n",
       "      <td>23.011177</td>\n",
       "      <td>Normal</td>\n",
       "      <td>Normal</td>\n",
       "    </tr>\n",
       "  </tbody>\n",
       "</table>\n",
       "</div>"
      ],
      "text/plain": [
       "   id    age  gender  height  weight  Systolic_BP  Diastolic_BP  cholesterol  \\\n",
       "0   0  18393       0     168    62.0          110            80            1   \n",
       "1   1  20228       1     156    85.0          140            90            3   \n",
       "2   2  18857       1     165    64.0          130            70            3   \n",
       "3   3  17623       0     169    82.0          150           100            1   \n",
       "4   4  17474       1     156    56.0          100            60            1   \n",
       "\n",
       "   Glucose_Level  smoke  alco  active  cardio  age_years        bmi  \\\n",
       "0              1      0     0       1       0         50  21.967120   \n",
       "1              1      0     0       1       1         55  34.927679   \n",
       "2              1      0     0       0       1         51  23.507805   \n",
       "3              1      0     0       1       1         48  28.710479   \n",
       "4              1      0     0       0       0         47  23.011177   \n",
       "\n",
       "            bp_category   bp_category_encoded  \n",
       "0  Hypertension Stage 1  Hypertension Stage 1  \n",
       "1  Hypertension Stage 2  Hypertension Stage 2  \n",
       "2  Hypertension Stage 1  Hypertension Stage 1  \n",
       "3  Hypertension Stage 2  Hypertension Stage 2  \n",
       "4                Normal                Normal  "
      ]
     },
     "execution_count": 20,
     "metadata": {},
     "output_type": "execute_result"
    }
   ],
   "source": [
    "df.head()"
   ]
  },
  {
   "cell_type": "markdown",
   "id": "93716923-c13a-4ad6-8531-5189b8689adb",
   "metadata": {
    "tags": []
   },
   "source": [
    "<h4>!!! We dont need any normalization and standardization since there arent extreme fluctuations in the useful data.</h4>"
   ]
  },
  {
   "cell_type": "markdown",
   "id": "38a098a5-08c8-4faa-a8fc-c70fe915d53d",
   "metadata": {
    "tags": []
   },
   "source": [
    "<h2>Dropping Unnecessry Columns</h2>"
   ]
  },
  {
   "cell_type": "code",
   "execution_count": 21,
   "id": "7552b0b7-f120-47f3-a818-126bf0691599",
   "metadata": {
    "tags": []
   },
   "outputs": [
    {
     "name": "stdout",
     "output_type": "stream",
     "text": [
      "cardio           1.000000\n",
      "Systolic_BP      0.434138\n",
      "Diastolic_BP     0.341859\n",
      "age              0.242754\n",
      "age_years        0.242575\n",
      "cholesterol      0.219714\n",
      "bmi              0.188074\n",
      "weight           0.174235\n",
      "Glucose_Level    0.088327\n",
      "active           0.038189\n",
      "height           0.019619\n",
      "smoke            0.019577\n",
      "alco             0.010675\n",
      "gender           0.003590\n",
      "id               0.002778\n",
      "Name: cardio, dtype: float64\n"
     ]
    }
   ],
   "source": [
    "print(df.corr()[\"cardio\"].abs().sort_values(ascending=False))"
   ]
  },
  {
   "cell_type": "code",
   "execution_count": null,
   "id": "08dcde4a-59f3-497e-a4ad-359b6a0eae89",
   "metadata": {},
   "outputs": [],
   "source": []
  },
  {
   "cell_type": "markdown",
   "id": "d91deab1-6e10-4a3a-b883-b8de3a3a3c27",
   "metadata": {
    "tags": []
   },
   "source": [
    "<h2>Dimentionality Reduction</h2>"
   ]
  },
  {
   "cell_type": "code",
   "execution_count": 22,
   "id": "9fe774e8-d744-4178-95e6-23028f9cec18",
   "metadata": {
    "tags": []
   },
   "outputs": [
    {
     "data": {
      "text/plain": [
       "(66051, 17)"
      ]
     },
     "execution_count": 22,
     "metadata": {},
     "output_type": "execute_result"
    }
   ],
   "source": [
    "df.shape"
   ]
  },
  {
   "cell_type": "code",
   "execution_count": 23,
   "id": "f0298108-7ade-4c62-bc96-c15c6b2b899d",
   "metadata": {
    "tags": []
   },
   "outputs": [],
   "source": [
    "#drop id since it has nothing to do with the disease\n",
    "#drop weight since a better feature is already calculated using it\n",
    "#drop height since a better feature is already calculated using it\n",
    "#drop age since it is age in days and caluclated using age in years\n",
    "\n",
    "columns_to_drop = ['id','height','age','weight']\n",
    "df.drop(columns=columns_to_drop, inplace=True)"
   ]
  },
  {
   "cell_type": "code",
   "execution_count": 24,
   "id": "3ed5c5e2-cc27-4b60-9c49-5356d518ff68",
   "metadata": {
    "tags": []
   },
   "outputs": [
    {
     "name": "stdout",
     "output_type": "stream",
     "text": [
      "cardio           1.000000\n",
      "Systolic_BP      0.434138\n",
      "Diastolic_BP     0.341859\n",
      "age_years        0.242575\n",
      "cholesterol      0.219714\n",
      "bmi              0.188074\n",
      "Glucose_Level    0.088327\n",
      "active           0.038189\n",
      "smoke            0.019577\n",
      "alco             0.010675\n",
      "gender           0.003590\n",
      "Name: cardio, dtype: float64\n"
     ]
    }
   ],
   "source": [
    "print(df.corr()[\"cardio\"].abs().sort_values(ascending=False))"
   ]
  },
  {
   "cell_type": "code",
   "execution_count": 25,
   "id": "d52e2268-39c3-4bfb-a056-b79b9ddf056a",
   "metadata": {
    "tags": []
   },
   "outputs": [
    {
     "data": {
      "text/plain": [
       "(66051, 13)"
      ]
     },
     "execution_count": 25,
     "metadata": {},
     "output_type": "execute_result"
    }
   ],
   "source": [
    "df.shape"
   ]
  },
  {
   "cell_type": "code",
   "execution_count": 26,
   "id": "b7e6a1ba-4385-4851-a567-96b1878b2cda",
   "metadata": {
    "tags": []
   },
   "outputs": [
    {
     "data": {
      "text/html": [
       "<div>\n",
       "<style scoped>\n",
       "    .dataframe tbody tr th:only-of-type {\n",
       "        vertical-align: middle;\n",
       "    }\n",
       "\n",
       "    .dataframe tbody tr th {\n",
       "        vertical-align: top;\n",
       "    }\n",
       "\n",
       "    .dataframe thead th {\n",
       "        text-align: right;\n",
       "    }\n",
       "</style>\n",
       "<table border=\"1\" class=\"dataframe\">\n",
       "  <thead>\n",
       "    <tr style=\"text-align: right;\">\n",
       "      <th></th>\n",
       "      <th>gender</th>\n",
       "      <th>Systolic_BP</th>\n",
       "      <th>Diastolic_BP</th>\n",
       "      <th>cholesterol</th>\n",
       "      <th>Glucose_Level</th>\n",
       "      <th>smoke</th>\n",
       "      <th>alco</th>\n",
       "      <th>active</th>\n",
       "      <th>cardio</th>\n",
       "      <th>age_years</th>\n",
       "      <th>bmi</th>\n",
       "      <th>bp_category</th>\n",
       "      <th>bp_category_encoded</th>\n",
       "    </tr>\n",
       "  </thead>\n",
       "  <tbody>\n",
       "    <tr>\n",
       "      <th>0</th>\n",
       "      <td>0</td>\n",
       "      <td>110</td>\n",
       "      <td>80</td>\n",
       "      <td>1</td>\n",
       "      <td>1</td>\n",
       "      <td>0</td>\n",
       "      <td>0</td>\n",
       "      <td>1</td>\n",
       "      <td>0</td>\n",
       "      <td>50</td>\n",
       "      <td>21.967120</td>\n",
       "      <td>Hypertension Stage 1</td>\n",
       "      <td>Hypertension Stage 1</td>\n",
       "    </tr>\n",
       "    <tr>\n",
       "      <th>1</th>\n",
       "      <td>1</td>\n",
       "      <td>140</td>\n",
       "      <td>90</td>\n",
       "      <td>3</td>\n",
       "      <td>1</td>\n",
       "      <td>0</td>\n",
       "      <td>0</td>\n",
       "      <td>1</td>\n",
       "      <td>1</td>\n",
       "      <td>55</td>\n",
       "      <td>34.927679</td>\n",
       "      <td>Hypertension Stage 2</td>\n",
       "      <td>Hypertension Stage 2</td>\n",
       "    </tr>\n",
       "    <tr>\n",
       "      <th>2</th>\n",
       "      <td>1</td>\n",
       "      <td>130</td>\n",
       "      <td>70</td>\n",
       "      <td>3</td>\n",
       "      <td>1</td>\n",
       "      <td>0</td>\n",
       "      <td>0</td>\n",
       "      <td>0</td>\n",
       "      <td>1</td>\n",
       "      <td>51</td>\n",
       "      <td>23.507805</td>\n",
       "      <td>Hypertension Stage 1</td>\n",
       "      <td>Hypertension Stage 1</td>\n",
       "    </tr>\n",
       "    <tr>\n",
       "      <th>3</th>\n",
       "      <td>0</td>\n",
       "      <td>150</td>\n",
       "      <td>100</td>\n",
       "      <td>1</td>\n",
       "      <td>1</td>\n",
       "      <td>0</td>\n",
       "      <td>0</td>\n",
       "      <td>1</td>\n",
       "      <td>1</td>\n",
       "      <td>48</td>\n",
       "      <td>28.710479</td>\n",
       "      <td>Hypertension Stage 2</td>\n",
       "      <td>Hypertension Stage 2</td>\n",
       "    </tr>\n",
       "    <tr>\n",
       "      <th>4</th>\n",
       "      <td>1</td>\n",
       "      <td>100</td>\n",
       "      <td>60</td>\n",
       "      <td>1</td>\n",
       "      <td>1</td>\n",
       "      <td>0</td>\n",
       "      <td>0</td>\n",
       "      <td>0</td>\n",
       "      <td>0</td>\n",
       "      <td>47</td>\n",
       "      <td>23.011177</td>\n",
       "      <td>Normal</td>\n",
       "      <td>Normal</td>\n",
       "    </tr>\n",
       "  </tbody>\n",
       "</table>\n",
       "</div>"
      ],
      "text/plain": [
       "   gender  Systolic_BP  Diastolic_BP  cholesterol  Glucose_Level  smoke  alco  \\\n",
       "0       0          110            80            1              1      0     0   \n",
       "1       1          140            90            3              1      0     0   \n",
       "2       1          130            70            3              1      0     0   \n",
       "3       0          150           100            1              1      0     0   \n",
       "4       1          100            60            1              1      0     0   \n",
       "\n",
       "   active  cardio  age_years        bmi           bp_category  \\\n",
       "0       1       0         50  21.967120  Hypertension Stage 1   \n",
       "1       1       1         55  34.927679  Hypertension Stage 2   \n",
       "2       0       1         51  23.507805  Hypertension Stage 1   \n",
       "3       1       1         48  28.710479  Hypertension Stage 2   \n",
       "4       0       0         47  23.011177                Normal   \n",
       "\n",
       "    bp_category_encoded  \n",
       "0  Hypertension Stage 1  \n",
       "1  Hypertension Stage 2  \n",
       "2  Hypertension Stage 1  \n",
       "3  Hypertension Stage 2  \n",
       "4                Normal  "
      ]
     },
     "execution_count": 26,
     "metadata": {},
     "output_type": "execute_result"
    }
   ],
   "source": [
    "df.head()"
   ]
  },
  {
   "cell_type": "code",
   "execution_count": 27,
   "id": "0f24236c-5bbe-4691-9863-a290157538c7",
   "metadata": {
    "tags": []
   },
   "outputs": [],
   "source": [
    "#dropping this column since it is calculated from the already present bp_category\n",
    "columns_to_drop = ['bp_category_encoded']\n",
    "df.drop(columns=columns_to_drop, inplace=True)"
   ]
  },
  {
   "cell_type": "code",
   "execution_count": 28,
   "id": "cb53ad12-059a-42eb-9e60-5004de9d37d3",
   "metadata": {
    "tags": []
   },
   "outputs": [
    {
     "data": {
      "text/plain": [
       "array(['Hypertension Stage 1', 'Hypertension Stage 2', 'Normal',\n",
       "       'Elevated'], dtype=object)"
      ]
     },
     "execution_count": 28,
     "metadata": {},
     "output_type": "execute_result"
    }
   ],
   "source": [
    "df['bp_category'].unique()"
   ]
  },
  {
   "cell_type": "code",
   "execution_count": 29,
   "id": "63977716-9afb-4876-8336-4e8f40cd49fb",
   "metadata": {
    "tags": []
   },
   "outputs": [],
   "source": [
    "#Since we already have systolic and diastolic BPs, we dont need its categorization...\n",
    "columns_to_drop = ['bp_category']\n",
    "df.drop(columns=columns_to_drop, inplace=True)"
   ]
  },
  {
   "cell_type": "code",
   "execution_count": 30,
   "id": "2fa08f2f-4d68-436a-a28f-804146be86a2",
   "metadata": {
    "tags": []
   },
   "outputs": [
    {
     "data": {
      "text/plain": [
       "(66051, 11)"
      ]
     },
     "execution_count": 30,
     "metadata": {},
     "output_type": "execute_result"
    }
   ],
   "source": [
    "df.shape"
   ]
  },
  {
   "cell_type": "code",
   "execution_count": 31,
   "id": "ecb3a71c-3802-4c0c-b1b8-13441fc3b6de",
   "metadata": {
    "tags": []
   },
   "outputs": [
    {
     "name": "stdout",
     "output_type": "stream",
     "text": [
      "cardio           1.000000\n",
      "Systolic_BP      0.434138\n",
      "Diastolic_BP     0.341859\n",
      "age_years        0.242575\n",
      "cholesterol      0.219714\n",
      "bmi              0.188074\n",
      "Glucose_Level    0.088327\n",
      "active           0.038189\n",
      "smoke            0.019577\n",
      "alco             0.010675\n",
      "gender           0.003590\n",
      "Name: cardio, dtype: float64\n"
     ]
    }
   ],
   "source": [
    "print(df.corr()[\"cardio\"].abs().sort_values(ascending=False))"
   ]
  },
  {
   "cell_type": "markdown",
   "id": "a1a34dc8-56a8-4ef4-b558-a1044a3d985a",
   "metadata": {
    "tags": []
   },
   "source": [
    "<h2>Using PCA</h2>"
   ]
  },
  {
   "cell_type": "code",
   "execution_count": 32,
   "id": "3a07b61e-7552-4151-91ce-08ab1965d68b",
   "metadata": {
    "tags": []
   },
   "outputs": [
    {
     "name": "stdout",
     "output_type": "stream",
     "text": [
      "[7.59655209e-01 1.08839876e-01 7.96149656e-02 4.83044514e-02\n",
      " 1.34457659e-03 5.86669964e-04 5.26992340e-04]\n"
     ]
    }
   ],
   "source": [
    "from sklearn.decomposition import PCA\n",
    "pca = PCA(n_components=7)\n",
    "pca.fit(df)\n",
    "\n",
    "print(pca.explained_variance_ratio_)"
   ]
  },
  {
   "cell_type": "code",
   "execution_count": 33,
   "id": "a8469ac5-6e99-4dc4-a33f-e807d4345575",
   "metadata": {
    "tags": []
   },
   "outputs": [
    {
     "data": {
      "text/plain": [
       "(66051, 7)"
      ]
     },
     "execution_count": 33,
     "metadata": {},
     "output_type": "execute_result"
    }
   ],
   "source": [
    "pca.transform(df).shape"
   ]
  },
  {
   "cell_type": "code",
   "execution_count": 65,
   "id": "00987037-e8d6-4b17-a305-850ef7e4c43e",
   "metadata": {
    "tags": []
   },
   "outputs": [
    {
     "data": {
      "text/html": [
       "<style>#sk-container-id-1 {color: black;}#sk-container-id-1 pre{padding: 0;}#sk-container-id-1 div.sk-toggleable {background-color: white;}#sk-container-id-1 label.sk-toggleable__label {cursor: pointer;display: block;width: 100%;margin-bottom: 0;padding: 0.3em;box-sizing: border-box;text-align: center;}#sk-container-id-1 label.sk-toggleable__label-arrow:before {content: \"▸\";float: left;margin-right: 0.25em;color: #696969;}#sk-container-id-1 label.sk-toggleable__label-arrow:hover:before {color: black;}#sk-container-id-1 div.sk-estimator:hover label.sk-toggleable__label-arrow:before {color: black;}#sk-container-id-1 div.sk-toggleable__content {max-height: 0;max-width: 0;overflow: hidden;text-align: left;background-color: #f0f8ff;}#sk-container-id-1 div.sk-toggleable__content pre {margin: 0.2em;color: black;border-radius: 0.25em;background-color: #f0f8ff;}#sk-container-id-1 input.sk-toggleable__control:checked~div.sk-toggleable__content {max-height: 200px;max-width: 100%;overflow: auto;}#sk-container-id-1 input.sk-toggleable__control:checked~label.sk-toggleable__label-arrow:before {content: \"▾\";}#sk-container-id-1 div.sk-estimator input.sk-toggleable__control:checked~label.sk-toggleable__label {background-color: #d4ebff;}#sk-container-id-1 div.sk-label input.sk-toggleable__control:checked~label.sk-toggleable__label {background-color: #d4ebff;}#sk-container-id-1 input.sk-hidden--visually {border: 0;clip: rect(1px 1px 1px 1px);clip: rect(1px, 1px, 1px, 1px);height: 1px;margin: -1px;overflow: hidden;padding: 0;position: absolute;width: 1px;}#sk-container-id-1 div.sk-estimator {font-family: monospace;background-color: #f0f8ff;border: 1px dotted black;border-radius: 0.25em;box-sizing: border-box;margin-bottom: 0.5em;}#sk-container-id-1 div.sk-estimator:hover {background-color: #d4ebff;}#sk-container-id-1 div.sk-parallel-item::after {content: \"\";width: 100%;border-bottom: 1px solid gray;flex-grow: 1;}#sk-container-id-1 div.sk-label:hover label.sk-toggleable__label {background-color: #d4ebff;}#sk-container-id-1 div.sk-serial::before {content: \"\";position: absolute;border-left: 1px solid gray;box-sizing: border-box;top: 0;bottom: 0;left: 50%;z-index: 0;}#sk-container-id-1 div.sk-serial {display: flex;flex-direction: column;align-items: center;background-color: white;padding-right: 0.2em;padding-left: 0.2em;position: relative;}#sk-container-id-1 div.sk-item {position: relative;z-index: 1;}#sk-container-id-1 div.sk-parallel {display: flex;align-items: stretch;justify-content: center;background-color: white;position: relative;}#sk-container-id-1 div.sk-item::before, #sk-container-id-1 div.sk-parallel-item::before {content: \"\";position: absolute;border-left: 1px solid gray;box-sizing: border-box;top: 0;bottom: 0;left: 50%;z-index: -1;}#sk-container-id-1 div.sk-parallel-item {display: flex;flex-direction: column;z-index: 1;position: relative;background-color: white;}#sk-container-id-1 div.sk-parallel-item:first-child::after {align-self: flex-end;width: 50%;}#sk-container-id-1 div.sk-parallel-item:last-child::after {align-self: flex-start;width: 50%;}#sk-container-id-1 div.sk-parallel-item:only-child::after {width: 0;}#sk-container-id-1 div.sk-dashed-wrapped {border: 1px dashed gray;margin: 0 0.4em 0.5em 0.4em;box-sizing: border-box;padding-bottom: 0.4em;background-color: white;}#sk-container-id-1 div.sk-label label {font-family: monospace;font-weight: bold;display: inline-block;line-height: 1.2em;}#sk-container-id-1 div.sk-label-container {text-align: center;}#sk-container-id-1 div.sk-container {/* jupyter's `normalize.less` sets `[hidden] { display: none; }` but bootstrap.min.css set `[hidden] { display: none !important; }` so we also need the `!important` here to be able to override the default hidden behavior on the sphinx rendered scikit-learn.org. See: https://github.com/scikit-learn/scikit-learn/issues/21755 */display: inline-block !important;position: relative;}#sk-container-id-1 div.sk-text-repr-fallback {display: none;}</style><div id=\"sk-container-id-1\" class=\"sk-top-container\"><div class=\"sk-text-repr-fallback\"><pre>PCA(n_components=7)</pre><b>In a Jupyter environment, please rerun this cell to show the HTML representation or trust the notebook. <br />On GitHub, the HTML representation is unable to render, please try loading this page with nbviewer.org.</b></div><div class=\"sk-container\" hidden><div class=\"sk-item\"><div class=\"sk-estimator sk-toggleable\"><input class=\"sk-toggleable__control sk-hidden--visually\" id=\"sk-estimator-id-1\" type=\"checkbox\" checked><label for=\"sk-estimator-id-1\" class=\"sk-toggleable__label sk-toggleable__label-arrow\">PCA</label><div class=\"sk-toggleable__content\"><pre>PCA(n_components=7)</pre></div></div></div></div></div>"
      ],
      "text/plain": [
       "PCA(n_components=7)"
      ]
     },
     "execution_count": 65,
     "metadata": {},
     "output_type": "execute_result"
    }
   ],
   "source": [
    "pca"
   ]
  },
  {
   "cell_type": "markdown",
   "id": "2a6b46bc-4068-4fea-b414-4304b8d104a6",
   "metadata": {},
   "source": [
    "<h1>Data Validation</h1>"
   ]
  },
  {
   "cell_type": "code",
   "execution_count": 34,
   "id": "35e7c91c-1e66-4ad3-acd0-d87c9a3f905d",
   "metadata": {
    "tags": []
   },
   "outputs": [
    {
     "data": {
      "text/plain": [
       "gender           0\n",
       "Systolic_BP      0\n",
       "Diastolic_BP     0\n",
       "cholesterol      0\n",
       "Glucose_Level    0\n",
       "smoke            0\n",
       "alco             0\n",
       "active           0\n",
       "cardio           0\n",
       "age_years        0\n",
       "bmi              0\n",
       "dtype: int64"
      ]
     },
     "execution_count": 34,
     "metadata": {},
     "output_type": "execute_result"
    }
   ],
   "source": [
    "df.isnull().sum()"
   ]
  },
  {
   "cell_type": "markdown",
   "id": "69f9eede-5e00-453d-b5f5-c5457ad3d3d4",
   "metadata": {},
   "source": [
    "<h2>Accuracy</h2>"
   ]
  },
  {
   "cell_type": "code",
   "execution_count": 35,
   "id": "4b1dbf59-b625-44ad-b142-06d9215ab462",
   "metadata": {
    "tags": []
   },
   "outputs": [
    {
     "data": {
      "text/html": [
       "<div>\n",
       "<style scoped>\n",
       "    .dataframe tbody tr th:only-of-type {\n",
       "        vertical-align: middle;\n",
       "    }\n",
       "\n",
       "    .dataframe tbody tr th {\n",
       "        vertical-align: top;\n",
       "    }\n",
       "\n",
       "    .dataframe thead th {\n",
       "        text-align: right;\n",
       "    }\n",
       "</style>\n",
       "<table border=\"1\" class=\"dataframe\">\n",
       "  <thead>\n",
       "    <tr style=\"text-align: right;\">\n",
       "      <th></th>\n",
       "      <th>gender</th>\n",
       "      <th>Systolic_BP</th>\n",
       "      <th>Diastolic_BP</th>\n",
       "      <th>cholesterol</th>\n",
       "      <th>Glucose_Level</th>\n",
       "      <th>smoke</th>\n",
       "      <th>alco</th>\n",
       "      <th>active</th>\n",
       "      <th>cardio</th>\n",
       "      <th>age_years</th>\n",
       "      <th>bmi</th>\n",
       "    </tr>\n",
       "  </thead>\n",
       "  <tbody>\n",
       "    <tr>\n",
       "      <th>0</th>\n",
       "      <td>0</td>\n",
       "      <td>110</td>\n",
       "      <td>80</td>\n",
       "      <td>1</td>\n",
       "      <td>1</td>\n",
       "      <td>0</td>\n",
       "      <td>0</td>\n",
       "      <td>1</td>\n",
       "      <td>0</td>\n",
       "      <td>50</td>\n",
       "      <td>21.967120</td>\n",
       "    </tr>\n",
       "    <tr>\n",
       "      <th>1</th>\n",
       "      <td>1</td>\n",
       "      <td>140</td>\n",
       "      <td>90</td>\n",
       "      <td>3</td>\n",
       "      <td>1</td>\n",
       "      <td>0</td>\n",
       "      <td>0</td>\n",
       "      <td>1</td>\n",
       "      <td>1</td>\n",
       "      <td>55</td>\n",
       "      <td>34.927679</td>\n",
       "    </tr>\n",
       "    <tr>\n",
       "      <th>2</th>\n",
       "      <td>1</td>\n",
       "      <td>130</td>\n",
       "      <td>70</td>\n",
       "      <td>3</td>\n",
       "      <td>1</td>\n",
       "      <td>0</td>\n",
       "      <td>0</td>\n",
       "      <td>0</td>\n",
       "      <td>1</td>\n",
       "      <td>51</td>\n",
       "      <td>23.507805</td>\n",
       "    </tr>\n",
       "    <tr>\n",
       "      <th>3</th>\n",
       "      <td>0</td>\n",
       "      <td>150</td>\n",
       "      <td>100</td>\n",
       "      <td>1</td>\n",
       "      <td>1</td>\n",
       "      <td>0</td>\n",
       "      <td>0</td>\n",
       "      <td>1</td>\n",
       "      <td>1</td>\n",
       "      <td>48</td>\n",
       "      <td>28.710479</td>\n",
       "    </tr>\n",
       "    <tr>\n",
       "      <th>4</th>\n",
       "      <td>1</td>\n",
       "      <td>100</td>\n",
       "      <td>60</td>\n",
       "      <td>1</td>\n",
       "      <td>1</td>\n",
       "      <td>0</td>\n",
       "      <td>0</td>\n",
       "      <td>0</td>\n",
       "      <td>0</td>\n",
       "      <td>47</td>\n",
       "      <td>23.011177</td>\n",
       "    </tr>\n",
       "  </tbody>\n",
       "</table>\n",
       "</div>"
      ],
      "text/plain": [
       "   gender  Systolic_BP  Diastolic_BP  cholesterol  Glucose_Level  smoke  alco  \\\n",
       "0       0          110            80            1              1      0     0   \n",
       "1       1          140            90            3              1      0     0   \n",
       "2       1          130            70            3              1      0     0   \n",
       "3       0          150           100            1              1      0     0   \n",
       "4       1          100            60            1              1      0     0   \n",
       "\n",
       "   active  cardio  age_years        bmi  \n",
       "0       1       0         50  21.967120  \n",
       "1       1       1         55  34.927679  \n",
       "2       0       1         51  23.507805  \n",
       "3       1       1         48  28.710479  \n",
       "4       0       0         47  23.011177  "
      ]
     },
     "execution_count": 35,
     "metadata": {},
     "output_type": "execute_result"
    }
   ],
   "source": [
    "df.head()"
   ]
  },
  {
   "cell_type": "code",
   "execution_count": 36,
   "id": "79725478-cd55-4e1d-993e-14cb728e7655",
   "metadata": {
    "tags": []
   },
   "outputs": [],
   "source": [
    "from sklearn.model_selection import train_test_split\n",
    "\n",
    "target = df[\"cardio\"]\n",
    "predictors = df.drop(\"cardio\",axis=1)\n",
    "\n",
    "X_train,X_test,Y_train,Y_test = train_test_split(predictors,target,test_size=0.20,random_state=0)"
   ]
  },
  {
   "cell_type": "code",
   "execution_count": 37,
   "id": "20acfcd9-70b8-486d-bd74-cba732560525",
   "metadata": {
    "tags": []
   },
   "outputs": [
    {
     "name": "stdout",
     "output_type": "stream",
     "text": [
      "The accuracy score achieved using Logistic Regression is: 68.75 %\n"
     ]
    }
   ],
   "source": [
    "from sklearn.metrics import accuracy_score\n",
    "\n",
    "from sklearn.linear_model import LogisticRegression\n",
    "\n",
    "lr = LogisticRegression()\n",
    "\n",
    "lr.fit(X_train,Y_train)\n",
    "\n",
    "Y_pred_lr = lr.predict(X_test)\n",
    "score_lr = round(accuracy_score(Y_pred_lr,Y_test)*100,2)\n",
    "\n",
    "print(\"The accuracy score achieved using Logistic Regression is: \"+str(score_lr)+\" %\")"
   ]
  },
  {
   "cell_type": "code",
   "execution_count": 38,
   "id": "6a74e489-f1e7-48f2-9416-3dc9eba87b34",
   "metadata": {
    "tags": []
   },
   "outputs": [
    {
     "name": "stdout",
     "output_type": "stream",
     "text": [
      "The accuracy score achieved using Naive Bayes is: 70.74 %\n"
     ]
    }
   ],
   "source": [
    "from sklearn.naive_bayes import GaussianNB\n",
    "\n",
    "nb = GaussianNB()\n",
    "\n",
    "nb.fit(X_train,Y_train)\n",
    "\n",
    "Y_pred_nb = nb.predict(X_test)\n",
    "\n",
    "score_nb = round(accuracy_score(Y_pred_nb,Y_test)*100,2)\n",
    "\n",
    "print(\"The accuracy score achieved using Naive Bayes is: \"+str(score_nb)+\" %\")"
   ]
  },
  {
   "cell_type": "code",
   "execution_count": 39,
   "id": "9958a17f-6fb5-498c-b5e9-93eeb457377f",
   "metadata": {
    "tags": []
   },
   "outputs": [],
   "source": [
    "df.to_csv('Final_Dataset.csv')"
   ]
  },
  {
   "cell_type": "code",
   "execution_count": 40,
   "id": "9f5b30e6-6322-486c-8bc3-c2457a958e6d",
   "metadata": {
    "tags": []
   },
   "outputs": [
    {
     "name": "stdout",
     "output_type": "stream",
     "text": [
      "<class 'pandas.core.frame.DataFrame'>\n",
      "Int64Index: 66051 entries, 0 to 68204\n",
      "Data columns (total 11 columns):\n",
      " #   Column         Non-Null Count  Dtype  \n",
      "---  ------         --------------  -----  \n",
      " 0   gender         66051 non-null  int64  \n",
      " 1   Systolic_BP    66051 non-null  int64  \n",
      " 2   Diastolic_BP   66051 non-null  int64  \n",
      " 3   cholesterol    66051 non-null  int64  \n",
      " 4   Glucose_Level  66051 non-null  int64  \n",
      " 5   smoke          66051 non-null  int64  \n",
      " 6   alco           66051 non-null  int64  \n",
      " 7   active         66051 non-null  int64  \n",
      " 8   cardio         66051 non-null  int64  \n",
      " 9   age_years      66051 non-null  int64  \n",
      " 10  bmi            66051 non-null  float64\n",
      "dtypes: float64(1), int64(10)\n",
      "memory usage: 6.0 MB\n"
     ]
    }
   ],
   "source": [
    "df.info()"
   ]
  },
  {
   "cell_type": "markdown",
   "id": "25016952-6185-4b0c-8f70-171d4185374a",
   "metadata": {},
   "source": [
    "<h5>So far the first phase has been completed.....</h5>"
   ]
  },
  {
   "cell_type": "markdown",
   "id": "0a84bd7f-4a2e-4925-968c-71a2407c00ca",
   "metadata": {},
   "source": [
    "<h1>\n",
    "Phase 2 (Visualization Starts from here)\n",
    "</h1>"
   ]
  },
  {
   "cell_type": "code",
   "execution_count": 51,
   "id": "9bc0cf63-77e6-444c-9532-8a29f6c9492e",
   "metadata": {
    "tags": []
   },
   "outputs": [],
   "source": [
    "df=pd.read_csv('Final_Dataset.csv')"
   ]
  },
  {
   "cell_type": "code",
   "execution_count": 52,
   "id": "f0925f94-f60e-4658-bcc8-81b27a0cd57d",
   "metadata": {
    "tags": []
   },
   "outputs": [
    {
     "data": {
      "text/html": [
       "<div>\n",
       "<style scoped>\n",
       "    .dataframe tbody tr th:only-of-type {\n",
       "        vertical-align: middle;\n",
       "    }\n",
       "\n",
       "    .dataframe tbody tr th {\n",
       "        vertical-align: top;\n",
       "    }\n",
       "\n",
       "    .dataframe thead th {\n",
       "        text-align: right;\n",
       "    }\n",
       "</style>\n",
       "<table border=\"1\" class=\"dataframe\">\n",
       "  <thead>\n",
       "    <tr style=\"text-align: right;\">\n",
       "      <th></th>\n",
       "      <th>Unnamed: 0</th>\n",
       "      <th>gender</th>\n",
       "      <th>Systolic_BP</th>\n",
       "      <th>Diastolic_BP</th>\n",
       "      <th>cholesterol</th>\n",
       "      <th>Glucose_Level</th>\n",
       "      <th>smoke</th>\n",
       "      <th>alco</th>\n",
       "      <th>active</th>\n",
       "      <th>cardio</th>\n",
       "      <th>age_years</th>\n",
       "      <th>bmi</th>\n",
       "    </tr>\n",
       "  </thead>\n",
       "  <tbody>\n",
       "    <tr>\n",
       "      <th>0</th>\n",
       "      <td>0</td>\n",
       "      <td>0</td>\n",
       "      <td>110</td>\n",
       "      <td>80</td>\n",
       "      <td>1</td>\n",
       "      <td>1</td>\n",
       "      <td>0</td>\n",
       "      <td>0</td>\n",
       "      <td>1</td>\n",
       "      <td>0</td>\n",
       "      <td>50</td>\n",
       "      <td>21.967120</td>\n",
       "    </tr>\n",
       "    <tr>\n",
       "      <th>1</th>\n",
       "      <td>1</td>\n",
       "      <td>1</td>\n",
       "      <td>140</td>\n",
       "      <td>90</td>\n",
       "      <td>3</td>\n",
       "      <td>1</td>\n",
       "      <td>0</td>\n",
       "      <td>0</td>\n",
       "      <td>1</td>\n",
       "      <td>1</td>\n",
       "      <td>55</td>\n",
       "      <td>34.927679</td>\n",
       "    </tr>\n",
       "    <tr>\n",
       "      <th>2</th>\n",
       "      <td>2</td>\n",
       "      <td>1</td>\n",
       "      <td>130</td>\n",
       "      <td>70</td>\n",
       "      <td>3</td>\n",
       "      <td>1</td>\n",
       "      <td>0</td>\n",
       "      <td>0</td>\n",
       "      <td>0</td>\n",
       "      <td>1</td>\n",
       "      <td>51</td>\n",
       "      <td>23.507805</td>\n",
       "    </tr>\n",
       "  </tbody>\n",
       "</table>\n",
       "</div>"
      ],
      "text/plain": [
       "   Unnamed: 0  gender  Systolic_BP  Diastolic_BP  cholesterol  Glucose_Level  \\\n",
       "0           0       0          110            80            1              1   \n",
       "1           1       1          140            90            3              1   \n",
       "2           2       1          130            70            3              1   \n",
       "\n",
       "   smoke  alco  active  cardio  age_years        bmi  \n",
       "0      0     0       1       0         50  21.967120  \n",
       "1      0     0       1       1         55  34.927679  \n",
       "2      0     0       0       1         51  23.507805  "
      ]
     },
     "execution_count": 52,
     "metadata": {},
     "output_type": "execute_result"
    }
   ],
   "source": [
    "df.head(3)"
   ]
  },
  {
   "cell_type": "code",
   "execution_count": 54,
   "id": "09b19f4b-b497-45ac-adc0-acd9ee8c9983",
   "metadata": {
    "tags": []
   },
   "outputs": [],
   "source": [
    "columns_to_drop = ['Unnamed: 0']\n",
    "df.drop(columns=columns_to_drop, inplace=True)"
   ]
  },
  {
   "cell_type": "markdown",
   "id": "8a4e0da9-dc81-4088-9435-24790b8a779b",
   "metadata": {},
   "source": [
    "<h2>Univariate Analysis</h2>"
   ]
  },
  {
   "cell_type": "markdown",
   "id": "c678ecc9-a2f2-4adb-97b3-d78ce33b51a7",
   "metadata": {},
   "source": [
    "<h3>Box Plot</h3>"
   ]
  },
  {
   "cell_type": "code",
   "execution_count": 57,
   "id": "4dc90bfc-c6cc-4f38-8667-017e46a9dddb",
   "metadata": {
    "tags": []
   },
   "outputs": [
    {
     "data": {
      "text/plain": [
       "<Axes: >"
      ]
     },
     "execution_count": 57,
     "metadata": {},
     "output_type": "execute_result"
    },
    {
     "data": {
      "image/png": "[encoded data removed]",
      "text/plain": [
       "<Figure size 640x480 with 1 Axes>"
      ]
     },
     "metadata": {},
     "output_type": "display_data"
    }
   ],
   "source": [
    "df[df.columns[1:3]].plot(kind = 'box')"
   ]
  },
  {
   "cell_type": "markdown",
   "id": "a883420f-a85f-43df-a18a-61b7bbaeb11b",
   "metadata": {},
   "source": [
    "Most of the Systolic BPs are around the Q1 which is 120. There are a few outliers having Systolic BP greater than 170. Similarly, most of the Diastolic BPs are around the Q1 which is 80. There are a few outliers having Systolic BP greater than 105 and some having it lower than 65. Both plots are Right skewed."
   ]
  },
  {
   "cell_type": "code",
   "execution_count": 58,
   "id": "4d9c075b-b267-421e-8665-48ada87d7e88",
   "metadata": {
    "tags": []
   },
   "outputs": [
    {
     "data": {
      "text/plain": [
       "<Axes: >"
      ]
     },
     "execution_count": 58,
     "metadata": {},
     "output_type": "execute_result"
    },
    {
     "data": {
      "image/png": "[encoded data removed]",
      "text/plain": [
       "<Figure size 640x480 with 1 Axes>"
      ]
     },
     "metadata": {},
     "output_type": "display_data"
    }
   ],
   "source": [
    "df['age_years'].plot(kind = 'box')"
   ]
  },
  {
   "cell_type": "markdown",
   "id": "ca904e4a-7ec3-45ed-b799-bc039b8e3792",
   "metadata": {},
   "source": [
    "The median age is around 53 years. There are few outliers having age 29 and 30 respectively. The distribution can be better understood with help of a Histogram."
   ]
  },
  {
   "cell_type": "markdown",
   "id": "9a08dd55-e12c-434e-a5cc-fea0f02f81f3",
   "metadata": {},
   "source": [
    "<h2>Histogram</h2>"
   ]
  },
  {
   "cell_type": "code",
   "execution_count": 59,
   "id": "ca458119-1bb2-4073-a048-8015ef889530",
   "metadata": {
    "tags": []
   },
   "outputs": [
    {
     "data": {
      "text/plain": [
       "<Axes: ylabel='Frequency'>"
      ]
     },
     "execution_count": 59,
     "metadata": {},
     "output_type": "execute_result"
    },
    {
     "data": {
      "image/png": "[encoded data removed]",
      "text/plain": [
       "<Figure size 640x480 with 1 Axes>"
      ]
     },
     "metadata": {},
     "output_type": "display_data"
    }
   ],
   "source": [
    "df['age_years'].plot(kind = 'hist')"
   ]
  },
  {
   "cell_type": "markdown",
   "id": "069cc247-e1a5-4753-a5c1-b8bfa8fde8b5",
   "metadata": {},
   "source": [
    "This data is left skewed."
   ]
  },
  {
   "cell_type": "markdown",
   "id": "5fe976cc-9779-40c5-b3db-4cf90deee541",
   "metadata": {},
   "source": [
    "<h2>Pie Chart</h2>"
   ]
  },
  {
   "cell_type": "code",
   "execution_count": 60,
   "id": "52239a49-4134-425f-82bf-48e23c37b39c",
   "metadata": {
    "tags": []
   },
   "outputs": [
    {
     "data": {
      "text/plain": [
       "Text(0.5, 1.0, 'Gender Distribution')"
      ]
     },
     "execution_count": 60,
     "metadata": {},
     "output_type": "execute_result"
    },
    {
     "data": {
      "image/png": "[encoded data removed]",
      "text/plain": [
       "<Figure size 640x480 with 1 Axes>"
      ]
     },
     "metadata": {},
     "output_type": "display_data"
    }
   ],
   "source": [
    "plt.pie(df['gender'].value_counts(), labels = ['Female', 'Male'],autopct='%1.1f%%')\n",
    "plt.title('Gender Distribution')"
   ]
  },
  {
   "cell_type": "markdown",
   "id": "b1c3882f-35e4-4dfe-98cb-bc640e7c759b",
   "metadata": {},
   "source": [
    "There are more examples of females than males"
   ]
  },
  {
   "cell_type": "code",
   "execution_count": 61,
   "id": "ef54b71a-df24-4072-a9e5-85db3139b257",
   "metadata": {
    "tags": []
   },
   "outputs": [
    {
     "data": {
      "text/plain": [
       "Text(0.5, 1.0, 'Patient Distribution')"
      ]
     },
     "execution_count": 61,
     "metadata": {},
     "output_type": "execute_result"
    },
    {
     "data": {
      "image/png": "[encoded data removed]",
      "text/plain": [
       "<Figure size 640x480 with 1 Axes>"
      ]
     },
     "metadata": {},
     "output_type": "display_data"
    }
   ],
   "source": [
    "plt.pie(df['cardio'].value_counts(), labels = ['Not a cardiac Patient', 'Cardiac Patient'],autopct='%1.1f%%')\n",
    "plt.title('Patient Distribution')"
   ]
  },
  {
   "cell_type": "markdown",
   "id": "1e909c8f-f2a1-468c-99a4-71cd92aaf843",
   "metadata": {},
   "source": [
    "The number of positive and negative cases are nearly equal"
   ]
  },
  {
   "cell_type": "markdown",
   "id": "c4e772d5-0179-4b3a-ab17-c478aaa5ed94",
   "metadata": {},
   "source": [
    "<h1>Bivarate Analysis</h1>"
   ]
  },
  {
   "cell_type": "markdown",
   "id": "579e1c45-a67e-4429-bc09-e71d4b521b83",
   "metadata": {},
   "source": [
    "<h2>Scatter Plot</h2>"
   ]
  },
  {
   "cell_type": "code",
   "execution_count": 62,
   "id": "814529dc-35b5-4175-a5ee-e39d5fb47409",
   "metadata": {
    "tags": []
   },
   "outputs": [
    {
     "data": {
      "text/plain": [
       "Text(0.5, 1.0, 'age vs years w.r.t glucose level')"
      ]
     },
     "execution_count": 62,
     "metadata": {},
     "output_type": "execute_result"
    },
    {
     "data": {
      "image/png": "[encoded data removed]",
      "text/plain": [
       "<Figure size 640x480 with 1 Axes>"
      ]
     },
     "metadata": {},
     "output_type": "display_data"
    }
   ],
   "source": [
    "plt.scatter(df['age_years'], df['bmi'], s= df['Glucose_Level']*10)\n",
    "plt.xlabel('Age')\n",
    "plt.ylabel('BMI')\n",
    "plt.title('age vs years w.r.t glucose level')"
   ]
  },
  {
   "cell_type": "markdown",
   "id": "4ae334f9-559f-444f-a905-39d82536c51a",
   "metadata": {},
   "source": [
    "Since there is too much data, so these insights are not much clear."
   ]
  },
  {
   "cell_type": "markdown",
   "id": "b807be84-c8df-4e68-9e38-00e83c752508",
   "metadata": {
    "tags": []
   },
   "source": [
    "<h2>Correlation Matrix</h2>"
   ]
  },
  {
   "cell_type": "code",
   "execution_count": 64,
   "id": "c048ee2c-60ee-4d00-9639-1b53cd670e07",
   "metadata": {
    "tags": []
   },
   "outputs": [
    {
     "data": {
      "text/html": [
       "<div>\n",
       "<style scoped>\n",
       "    .dataframe tbody tr th:only-of-type {\n",
       "        vertical-align: middle;\n",
       "    }\n",
       "\n",
       "    .dataframe tbody tr th {\n",
       "        vertical-align: top;\n",
       "    }\n",
       "\n",
       "    .dataframe thead th {\n",
       "        text-align: right;\n",
       "    }\n",
       "</style>\n",
       "<table border=\"1\" class=\"dataframe\">\n",
       "  <thead>\n",
       "    <tr style=\"text-align: right;\">\n",
       "      <th></th>\n",
       "      <th>gender</th>\n",
       "      <th>Systolic_BP</th>\n",
       "      <th>Diastolic_BP</th>\n",
       "      <th>cholesterol</th>\n",
       "      <th>Glucose_Level</th>\n",
       "      <th>smoke</th>\n",
       "      <th>alco</th>\n",
       "      <th>active</th>\n",
       "      <th>cardio</th>\n",
       "      <th>age_years</th>\n",
       "      <th>bmi</th>\n",
       "    </tr>\n",
       "  </thead>\n",
       "  <tbody>\n",
       "    <tr>\n",
       "      <th>gender</th>\n",
       "      <td>1.000000</td>\n",
       "      <td>-0.059465</td>\n",
       "      <td>-0.064331</td>\n",
       "      <td>0.039293</td>\n",
       "      <td>0.023383</td>\n",
       "      <td>-0.338336</td>\n",
       "      <td>-0.169975</td>\n",
       "      <td>-0.006506</td>\n",
       "      <td>-0.003590</td>\n",
       "      <td>0.022259</td>\n",
       "      <td>0.126367</td>\n",
       "    </tr>\n",
       "    <tr>\n",
       "      <th>Systolic_BP</th>\n",
       "      <td>-0.059465</td>\n",
       "      <td>1.000000</td>\n",
       "      <td>0.730522</td>\n",
       "      <td>0.193065</td>\n",
       "      <td>0.086504</td>\n",
       "      <td>0.023694</td>\n",
       "      <td>0.029601</td>\n",
       "      <td>-0.000126</td>\n",
       "      <td>0.434138</td>\n",
       "      <td>0.215205</td>\n",
       "      <td>0.255175</td>\n",
       "    </tr>\n",
       "    <tr>\n",
       "      <th>Diastolic_BP</th>\n",
       "      <td>-0.064331</td>\n",
       "      <td>0.730522</td>\n",
       "      <td>1.000000</td>\n",
       "      <td>0.158486</td>\n",
       "      <td>0.067772</td>\n",
       "      <td>0.022588</td>\n",
       "      <td>0.033417</td>\n",
       "      <td>-0.000330</td>\n",
       "      <td>0.341859</td>\n",
       "      <td>0.160060</td>\n",
       "      <td>0.230190</td>\n",
       "    </tr>\n",
       "    <tr>\n",
       "      <th>cholesterol</th>\n",
       "      <td>0.039293</td>\n",
       "      <td>0.193065</td>\n",
       "      <td>0.158486</td>\n",
       "      <td>1.000000</td>\n",
       "      <td>0.449013</td>\n",
       "      <td>0.006716</td>\n",
       "      <td>0.032613</td>\n",
       "      <td>0.009073</td>\n",
       "      <td>0.219714</td>\n",
       "      <td>0.156438</td>\n",
       "      <td>0.167300</td>\n",
       "    </tr>\n",
       "    <tr>\n",
       "      <th>Glucose_Level</th>\n",
       "      <td>0.023383</td>\n",
       "      <td>0.086504</td>\n",
       "      <td>0.067772</td>\n",
       "      <td>0.449013</td>\n",
       "      <td>1.000000</td>\n",
       "      <td>-0.009736</td>\n",
       "      <td>0.006086</td>\n",
       "      <td>-0.007381</td>\n",
       "      <td>0.088327</td>\n",
       "      <td>0.098385</td>\n",
       "      <td>0.106243</td>\n",
       "    </tr>\n",
       "    <tr>\n",
       "      <th>smoke</th>\n",
       "      <td>-0.338336</td>\n",
       "      <td>0.023694</td>\n",
       "      <td>0.022588</td>\n",
       "      <td>0.006716</td>\n",
       "      <td>-0.009736</td>\n",
       "      <td>1.000000</td>\n",
       "      <td>0.339907</td>\n",
       "      <td>0.027882</td>\n",
       "      <td>-0.019577</td>\n",
       "      <td>-0.045387</td>\n",
       "      <td>-0.043148</td>\n",
       "    </tr>\n",
       "    <tr>\n",
       "      <th>alco</th>\n",
       "      <td>-0.169975</td>\n",
       "      <td>0.029601</td>\n",
       "      <td>0.033417</td>\n",
       "      <td>0.032613</td>\n",
       "      <td>0.006086</td>\n",
       "      <td>0.339907</td>\n",
       "      <td>1.000000</td>\n",
       "      <td>0.026323</td>\n",
       "      <td>-0.010675</td>\n",
       "      <td>-0.027731</td>\n",
       "      <td>0.012224</td>\n",
       "    </tr>\n",
       "    <tr>\n",
       "      <th>active</th>\n",
       "      <td>-0.006506</td>\n",
       "      <td>-0.000126</td>\n",
       "      <td>-0.000330</td>\n",
       "      <td>0.009073</td>\n",
       "      <td>-0.007381</td>\n",
       "      <td>0.027882</td>\n",
       "      <td>0.026323</td>\n",
       "      <td>1.000000</td>\n",
       "      <td>-0.038189</td>\n",
       "      <td>-0.011473</td>\n",
       "      <td>-0.011305</td>\n",
       "    </tr>\n",
       "    <tr>\n",
       "      <th>cardio</th>\n",
       "      <td>-0.003590</td>\n",
       "      <td>0.434138</td>\n",
       "      <td>0.341859</td>\n",
       "      <td>0.219714</td>\n",
       "      <td>0.088327</td>\n",
       "      <td>-0.019577</td>\n",
       "      <td>-0.010675</td>\n",
       "      <td>-0.038189</td>\n",
       "      <td>1.000000</td>\n",
       "      <td>0.242575</td>\n",
       "      <td>0.188074</td>\n",
       "    </tr>\n",
       "    <tr>\n",
       "      <th>age_years</th>\n",
       "      <td>0.022259</td>\n",
       "      <td>0.215205</td>\n",
       "      <td>0.160060</td>\n",
       "      <td>0.156438</td>\n",
       "      <td>0.098385</td>\n",
       "      <td>-0.045387</td>\n",
       "      <td>-0.027731</td>\n",
       "      <td>-0.011473</td>\n",
       "      <td>0.242575</td>\n",
       "      <td>1.000000</td>\n",
       "      <td>0.117167</td>\n",
       "    </tr>\n",
       "    <tr>\n",
       "      <th>bmi</th>\n",
       "      <td>0.126367</td>\n",
       "      <td>0.255175</td>\n",
       "      <td>0.230190</td>\n",
       "      <td>0.167300</td>\n",
       "      <td>0.106243</td>\n",
       "      <td>-0.043148</td>\n",
       "      <td>0.012224</td>\n",
       "      <td>-0.011305</td>\n",
       "      <td>0.188074</td>\n",
       "      <td>0.117167</td>\n",
       "      <td>1.000000</td>\n",
       "    </tr>\n",
       "  </tbody>\n",
       "</table>\n",
       "</div>"
      ],
      "text/plain": [
       "                 gender  Systolic_BP  Diastolic_BP  cholesterol  \\\n",
       "gender         1.000000    -0.059465     -0.064331     0.039293   \n",
       "Systolic_BP   -0.059465     1.000000      0.730522     0.193065   \n",
       "Diastolic_BP  -0.064331     0.730522      1.000000     0.158486   \n",
       "cholesterol    0.039293     0.193065      0.158486     1.000000   \n",
       "Glucose_Level  0.023383     0.086504      0.067772     0.449013   \n",
       "smoke         -0.338336     0.023694      0.022588     0.006716   \n",
       "alco          -0.169975     0.029601      0.033417     0.032613   \n",
       "active        -0.006506    -0.000126     -0.000330     0.009073   \n",
       "cardio        -0.003590     0.434138      0.341859     0.219714   \n",
       "age_years      0.022259     0.215205      0.160060     0.156438   \n",
       "bmi            0.126367     0.255175      0.230190     0.167300   \n",
       "\n",
       "               Glucose_Level     smoke      alco    active    cardio  \\\n",
       "gender              0.023383 -0.338336 -0.169975 -0.006506 -0.003590   \n",
       "Systolic_BP         0.086504  0.023694  0.029601 -0.000126  0.434138   \n",
       "Diastolic_BP        0.067772  0.022588  0.033417 -0.000330  0.341859   \n",
       "cholesterol         0.449013  0.006716  0.032613  0.009073  0.219714   \n",
       "Glucose_Level       1.000000 -0.009736  0.006086 -0.007381  0.088327   \n",
       "smoke              -0.009736  1.000000  0.339907  0.027882 -0.019577   \n",
       "alco                0.006086  0.339907  1.000000  0.026323 -0.010675   \n",
       "active             -0.007381  0.027882  0.026323  1.000000 -0.038189   \n",
       "cardio              0.088327 -0.019577 -0.010675 -0.038189  1.000000   \n",
       "age_years           0.098385 -0.045387 -0.027731 -0.011473  0.242575   \n",
       "bmi                 0.106243 -0.043148  0.012224 -0.011305  0.188074   \n",
       "\n",
       "               age_years       bmi  \n",
       "gender          0.022259  0.126367  \n",
       "Systolic_BP     0.215205  0.255175  \n",
       "Diastolic_BP    0.160060  0.230190  \n",
       "cholesterol     0.156438  0.167300  \n",
       "Glucose_Level   0.098385  0.106243  \n",
       "smoke          -0.045387 -0.043148  \n",
       "alco           -0.027731  0.012224  \n",
       "active         -0.011473 -0.011305  \n",
       "cardio          0.242575  0.188074  \n",
       "age_years       1.000000  0.117167  \n",
       "bmi             0.117167  1.000000  "
      ]
     },
     "execution_count": 64,
     "metadata": {},
     "output_type": "execute_result"
    }
   ],
   "source": [
    "df.corr()"
   ]
  },
  {
   "cell_type": "markdown",
   "id": "6d4901f4-8efb-4b7c-bbb8-58d85300aeb5",
   "metadata": {
    "tags": []
   },
   "source": [
    "<h2>Scatter Matrix</h2>"
   ]
  },
  {
   "cell_type": "code",
   "execution_count": 78,
   "id": "73d1a732-9b7b-4d8d-b5da-d9aebfbdbed9",
   "metadata": {
    "tags": []
   },
   "outputs": [
    {
     "data": {
      "image/png": "[encoded data removed]",
      "text/plain": [
       "<Figure size 1000x1000 with 121 Axes>"
      ]
     },
     "metadata": {},
     "output_type": "display_data"
    }
   ],
   "source": [
    "pd.plotting.scatter_matrix(df,figsize=(10, 10))\n",
    "plt.show()"
   ]
  },
  {
   "cell_type": "markdown",
   "id": "41d97c59-7787-4dde-abc6-35d34d0418da",
   "metadata": {},
   "source": [
    "Using the above Scatter Plot, we can see that there is no strong relationship of the target feature 'cardio' with any of the other variables."
   ]
  },
  {
   "cell_type": "markdown",
   "id": "641a8621-082b-47ee-8ef4-c471a1433c66",
   "metadata": {
    "tags": []
   },
   "source": [
    "<h2>Heat Map</h2>"
   ]
  },
  {
   "cell_type": "code",
   "execution_count": 76,
   "id": "9aa0a6f8-d54b-43b9-a473-048a646def3b",
   "metadata": {
    "tags": []
   },
   "outputs": [
    {
     "data": {
      "image/png": "[encoded data removed]",
      "text/plain": [
       "<Figure size 1000x400 with 2 Axes>"
      ]
     },
     "metadata": {},
     "output_type": "display_data"
    }
   ],
   "source": [
    "plt.figure(figsize=(10, 4))\n",
    "sns.heatmap(df[['Systolic_BP', 'Diastolic_BP', 'cholesterol', 'Glucose_Level', 'smoke', 'alco', 'active', 'age_years', 'bmi', 'cardio']].corr(), annot=True, cmap='coolwarm', linewidths=0.5)\n",
    "plt.title(\"Heatmap\")\n",
    "plt.show()"
   ]
  },
  {
   "cell_type": "markdown",
   "id": "f75640bb-bba0-4f5e-aad8-f0a53c7f562c",
   "metadata": {},
   "source": [
    "Using the above heat map and other insights, we can say that there is no variable which has a strong correlation with our target variable 'cardio'. However, we know that there is some realtion between the systolic and diastolic BPs."
   ]
  },
  {
   "cell_type": "markdown",
   "id": "737c49c1-66ae-4cef-8339-38f8709f03b1",
   "metadata": {},
   "source": [
    "<h1>Conclusion</h1>\n",
    "<h3>We can conclude that the given data set is not very good for heart disease prediction since it does not have a strong correlation of the target variable \"Cardio\" with any of the rest of variables. However, weaker relations do exist and all such insights have been shown above. A short decription about each insight has also been written under it.</h3>"
   ]
  }
 ],
 "metadata": {
  "kernelspec": {
   "display_name": "Python 3 (ipykernel)",
   "language": "python",
   "name": "python3"
  },
  "language_info": {
   "codemirror_mode": {
    "name": "ipython",
    "version": 3
   },
   "file_extension": ".py",
   "mimetype": "text/x-python",
   "name": "python",
   "nbconvert_exporter": "python",
   "pygments_lexer": "ipython3",
   "version": "3.11.4"
  }
 },
 "nbformat": 4,
 "nbformat_minor": 5
}
