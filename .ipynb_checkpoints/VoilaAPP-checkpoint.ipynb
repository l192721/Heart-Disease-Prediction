{
 "cells": [
  {
   "cell_type": "code",
   "execution_count": 5,
   "id": "c39addc2-cf08-43f8-bf7e-3576d92952bf",
   "metadata": {
    "tags": []
   },
   "outputs": [
    {
     "data": {
      "application/vnd.jupyter.widget-view+json": {
       "model_id": "904a6f100e014d1dac97e47e8a3bd3d0",
       "version_major": 2,
       "version_minor": 0
      },
      "text/plain": [
       "RadioButtons(description='Gender:', options=(('Male', 0), ('Female', 1)), value=0)"
      ]
     },
     "metadata": {},
     "output_type": "display_data"
    },
    {
     "data": {
      "application/vnd.jupyter.widget-view+json": {
       "model_id": "aa3ca9e916124b75a95771e2fbb7395c",
       "version_major": 2,
       "version_minor": 0
      },
      "text/plain": [
       "BoundedIntText(value=120, description='Systolic BP:', max=300)"
      ]
     },
     "metadata": {},
     "output_type": "display_data"
    },
    {
     "data": {
      "application/vnd.jupyter.widget-view+json": {
       "model_id": "91df8bbba115407ea1b32e6560cd4e6f",
       "version_major": 2,
       "version_minor": 0
      },
      "text/plain": [
       "BoundedIntText(value=80, description='Diastolic BP:', max=200)"
      ]
     },
     "metadata": {},
     "output_type": "display_data"
    },
    {
     "data": {
      "application/vnd.jupyter.widget-view+json": {
       "model_id": "83c9e19ceeb94c2885221f688c3ee06c",
       "version_major": 2,
       "version_minor": 0
      },
      "text/plain": [
       "RadioButtons(description='Cholestrol Level:', options=(('Low', 1), ('Moderate', 2), ('High', 3)), value=1)"
      ]
     },
     "metadata": {},
     "output_type": "display_data"
    },
    {
     "data": {
      "application/vnd.jupyter.widget-view+json": {
       "model_id": "12e0ca7443cc49a39ca19cbce5a9f516",
       "version_major": 2,
       "version_minor": 0
      },
      "text/plain": [
       "RadioButtons(description='Active:', options=(('Yes', 1), ('No', 0)), value=1)"
      ]
     },
     "metadata": {},
     "output_type": "display_data"
    },
    {
     "data": {
      "application/vnd.jupyter.widget-view+json": {
       "model_id": "1c6dd80ef6a542ba8c7c8e3ea225955b",
       "version_major": 2,
       "version_minor": 0
      },
      "text/plain": [
       "RadioButtons(description='Alcoholic:', options=(('Yes', 1), ('No', 0)), value=1)"
      ]
     },
     "metadata": {},
     "output_type": "display_data"
    },
    {
     "data": {
      "application/vnd.jupyter.widget-view+json": {
       "model_id": "4f5a5ca513894c2cb790e3421e0cf9e9",
       "version_major": 2,
       "version_minor": 0
      },
      "text/plain": [
       "RadioButtons(description='Glucose Levels:', options=(('Low', 1), ('Moderate', 2), ('High', 3)), value=1)"
      ]
     },
     "metadata": {},
     "output_type": "display_data"
    },
    {
     "data": {
      "application/vnd.jupyter.widget-view+json": {
       "model_id": "75fc784079c948958b186a09c521e6de",
       "version_major": 2,
       "version_minor": 0
      },
      "text/plain": [
       "RadioButtons(description='Smoker:', options=(('Yes', 1), ('No', 0)), value=1)"
      ]
     },
     "metadata": {},
     "output_type": "display_data"
    },
    {
     "data": {
      "application/vnd.jupyter.widget-view+json": {
       "model_id": "fc905b3c03f845b396a7f8309d2e3b97",
       "version_major": 2,
       "version_minor": 0
      },
      "text/plain": [
       "BoundedIntText(value=45, description='Age in Years')"
      ]
     },
     "metadata": {},
     "output_type": "display_data"
    },
    {
     "data": {
      "application/vnd.jupyter.widget-view+json": {
       "model_id": "e3d3401f8f0d4f32b94e089fcc7367ed",
       "version_major": 2,
       "version_minor": 0
      },
      "text/plain": [
       "BoundedIntText(value=20, description='BMI Value:', max=40, min=10)"
      ]
     },
     "metadata": {},
     "output_type": "display_data"
    },
    {
     "data": {
      "application/vnd.jupyter.widget-view+json": {
       "model_id": "f244829cde6a4ca080efebb1f442ec19",
       "version_major": 2,
       "version_minor": 0
      },
      "text/plain": [
       "Button(description='Predict', style=ButtonStyle())"
      ]
     },
     "metadata": {},
     "output_type": "display_data"
    },
    {
     "data": {
      "application/vnd.jupyter.widget-view+json": {
       "model_id": "21e4b48a4b044343bac1b7030b3289ae",
       "version_major": 2,
       "version_minor": 0
      },
      "text/plain": [
       "Output()"
      ]
     },
     "metadata": {},
     "output_type": "display_data"
    }
   ],
   "source": [
    "import joblib\n",
    "import ipywidgets as widgets\n",
    "from IPython.display import display\n",
    "import numpy as np\n",
    "\n",
    "# Load the machine learning model\n",
    "model = joblib.load('lasso_model.pkl')\n",
    "\n",
    "# Create GUI elements\n",
    "gender = widgets.RadioButtons(options=[('Male', 0), ('Female', 1)], description='Gender:')\n",
    "systolic_bp = widgets.BoundedIntText(value=120, min=0, max=300, step=1, description='Systolic BP:')\n",
    "diastolic_bp = widgets.BoundedIntText(value=80, min=0, max=200, step=1, description='Diastolic BP:')\n",
    "\n",
    "cholestrol = widgets.RadioButtons(options=[('Low', 1), ('Moderate', 2), ('High', 3)], description='Cholestrol Level:')\n",
    "active = widgets.RadioButtons(options=[('Yes', 1), ('No', 0)], description='Active:')\n",
    "alco = widgets.RadioButtons(options=[('Yes', 1), ('No', 0)], description='Alcoholic:')\n",
    "glucose = widgets.RadioButtons(options=[('Low', 1), ('Moderate', 2), ('High', 3)], description='Glucose Levels:')\n",
    "smoke = widgets.RadioButtons(options=[('Yes', 1),('No', 0)], description='Smoker:')\n",
    "Age = widgets.BoundedIntText(value=45, min=0, max=100, step=1, description='Age in Years')\n",
    "BMI = widgets.BoundedIntText(value=20, min=10, max=40, step=1, description='BMI Value:')\n",
    "\n",
    "# Add other widgets for the remaining features\n",
    "\n",
    "predict_button = widgets.Button(description='Predict')\n",
    "output = widgets.Output()\n",
    "\n",
    "def predict(*args):\n",
    "    # Fetch values from widgets\n",
    "    gender_val = gender.value\n",
    "    systolic_bp_val = systolic_bp.value\n",
    "    diastolic_bp_val = diastolic_bp.value\n",
    "    cholestrol_val = cholestrol.value\n",
    "    active_val = active.value\n",
    "    alco_val = alco.value\n",
    "    glucose_val = glucose.value\n",
    "    smoke_val = smoke.value\n",
    "    Age_val = Age.value\n",
    "    BMI_val = BMI.value\n",
    "    # Fetch values for other features\n",
    "\n",
    "    # Perform preprocessing if needed\n",
    "    features = np.array([gender_val, systolic_bp_val, diastolic_bp_val,cholestrol_val, glucose_val, smoke_val, alco_val, active_val, Age_val, BMI_val])  # Add other features\n",
    "    # Make a prediction\n",
    "    prediction = model.predict([features])\n",
    "\n",
    "    # Display the prediction\n",
    "    with output:\n",
    "        output.clear_output()\n",
    "        if prediction[0] == 0:\n",
    "            print(\"The model predicts PRESENCE of heart disease.\")\n",
    "        else:\n",
    "            print(\"The model predicts ABSENCE of heart disease.\")\n",
    "\n",
    "predict_button.on_click(predict)\n",
    "\n",
    "# Display widgets\n",
    "display(gender, systolic_bp, diastolic_bp, cholestrol, active, alco, glucose, smoke, Age, BMI, predict_button, output)"
   ]
  }
 ],
 "metadata": {
  "kernelspec": {
   "display_name": "Python 3 (ipykernel)",
   "language": "python",
   "name": "python3"
  },
  "language_info": {
   "codemirror_mode": {
    "name": "ipython",
    "version": 3
   },
   "file_extension": ".py",
   "mimetype": "text/x-python",
   "name": "python",
   "nbconvert_exporter": "python",
   "pygments_lexer": "ipython3",
   "version": "3.11.4"
  }
 },
 "nbformat": 4,
 "nbformat_minor": 5
}
